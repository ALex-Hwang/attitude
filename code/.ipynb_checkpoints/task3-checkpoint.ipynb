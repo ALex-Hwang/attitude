{
 "cells": [
  {
   "cell_type": "code",
   "execution_count": 2,
   "metadata": {},
   "outputs": [],
   "source": [
    "import pandas as pd\n",
    "import numpy as np\n",
    "import re\n",
    "import os\n",
    "import json\n",
    "import datetime"
   ]
  },
  {
   "cell_type": "code",
   "execution_count": 3,
   "metadata": {},
   "outputs": [],
   "source": [
    "# strip the alphabets\n",
    "def strip(data):\n",
    "    pattern = re.compile('[^0-9]', re.UNICODE)\n",
    "    return re.sub(pattern, \"\", str(data))"
   ]
  },
  {
   "cell_type": "code",
   "execution_count": 4,
   "metadata": {},
   "outputs": [],
   "source": [
    "filePath = '/Users/helix/Coding/attitude/data/'"
   ]
  },
  {
   "cell_type": "code",
   "execution_count": 5,
   "metadata": {},
   "outputs": [],
   "source": [
    "data = pd.read_excel(filePath+'all_people.xlsx')\n",
    "data = data[['id', '政治态度得分']]\n",
    "data.columns = ['id', 'score']\n",
    "data.dropna()\n",
    "data.id = data.id.apply(strip)"
   ]
  },
  {
   "cell_type": "code",
   "execution_count": 6,
   "metadata": {},
   "outputs": [
    {
     "data": {
      "text/html": [
       "<div>\n",
       "<style scoped>\n",
       "    .dataframe tbody tr th:only-of-type {\n",
       "        vertical-align: middle;\n",
       "    }\n",
       "\n",
       "    .dataframe tbody tr th {\n",
       "        vertical-align: top;\n",
       "    }\n",
       "\n",
       "    .dataframe thead th {\n",
       "        text-align: right;\n",
       "    }\n",
       "</style>\n",
       "<table border=\"1\" class=\"dataframe\">\n",
       "  <thead>\n",
       "    <tr style=\"text-align: right;\">\n",
       "      <th></th>\n",
       "      <th>id</th>\n",
       "      <th>score</th>\n",
       "    </tr>\n",
       "  </thead>\n",
       "  <tbody>\n",
       "    <tr>\n",
       "      <th>0</th>\n",
       "      <td>201922301</td>\n",
       "      <td>4.14</td>\n",
       "    </tr>\n",
       "    <tr>\n",
       "      <th>1</th>\n",
       "      <td>20191721032</td>\n",
       "      <td>3.36</td>\n",
       "    </tr>\n",
       "    <tr>\n",
       "      <th>2</th>\n",
       "      <td>201906005</td>\n",
       "      <td>3.47</td>\n",
       "    </tr>\n",
       "    <tr>\n",
       "      <th>3</th>\n",
       "      <td>201906004</td>\n",
       "      <td>3.54</td>\n",
       "    </tr>\n",
       "    <tr>\n",
       "      <th>4</th>\n",
       "      <td>201823164</td>\n",
       "      <td>3.80</td>\n",
       "    </tr>\n",
       "  </tbody>\n",
       "</table>\n",
       "</div>"
      ],
      "text/plain": [
       "            id  score\n",
       "0    201922301   4.14\n",
       "1  20191721032   3.36\n",
       "2    201906005   3.47\n",
       "3    201906004   3.54\n",
       "4    201823164   3.80"
      ]
     },
     "execution_count": 6,
     "metadata": {},
     "output_type": "execute_result"
    }
   ],
   "source": [
    "data.head()"
   ]
  },
  {
   "cell_type": "code",
   "execution_count": 7,
   "metadata": {
    "tags": []
   },
   "outputs": [],
   "source": [
    "filePath = '/Users/helix/Coding/attitude/data/all_json/'\n",
    "fileNames = os.listdir(filePath)\n",
    "json_file = []\n",
    "for fileName in fileNames:\n",
    "    File = open(filePath+fileName)\n",
    "    test = json.load(File)\n",
    "    #print(fileName)\n",
    "    test = np.array(test['vectors'])\n",
    "    json_file.append([strip(fileName), test])\n",
    "    File.close()"
   ]
  },
  {
   "cell_type": "code",
   "execution_count": 8,
   "metadata": {},
   "outputs": [],
   "source": [
    "json_file = pd.DataFrame(json_file, columns=['id', 'vector'])"
   ]
  },
  {
   "cell_type": "code",
   "execution_count": 9,
   "metadata": {},
   "outputs": [
    {
     "data": {
      "text/html": [
       "<div>\n",
       "<style scoped>\n",
       "    .dataframe tbody tr th:only-of-type {\n",
       "        vertical-align: middle;\n",
       "    }\n",
       "\n",
       "    .dataframe tbody tr th {\n",
       "        vertical-align: top;\n",
       "    }\n",
       "\n",
       "    .dataframe thead th {\n",
       "        text-align: right;\n",
       "    }\n",
       "</style>\n",
       "<table border=\"1\" class=\"dataframe\">\n",
       "  <thead>\n",
       "    <tr style=\"text-align: right;\">\n",
       "      <th></th>\n",
       "      <th>id</th>\n",
       "      <th>vector</th>\n",
       "    </tr>\n",
       "  </thead>\n",
       "  <tbody>\n",
       "    <tr>\n",
       "      <th>0</th>\n",
       "      <td>1901140015</td>\n",
       "      <td>[[-1.579109286842105, 2.9206601189473687, -0.1...</td>\n",
       "    </tr>\n",
       "    <tr>\n",
       "      <th>1</th>\n",
       "      <td>1901362601</td>\n",
       "      <td>[[-1.7639175999999999, -3.2602275249999995, 2....</td>\n",
       "    </tr>\n",
       "    <tr>\n",
       "      <th>2</th>\n",
       "      <td>18110336</td>\n",
       "      <td>[[-4.3450105425, 0.24810093499999986, 4.423870...</td>\n",
       "    </tr>\n",
       "    <tr>\n",
       "      <th>3</th>\n",
       "      <td>190901191133</td>\n",
       "      <td>[[-5.1014285, 2.597416484444445, 5.91408673333...</td>\n",
       "    </tr>\n",
       "    <tr>\n",
       "      <th>4</th>\n",
       "      <td>19041230</td>\n",
       "      <td>[[-3.6661185405555554, 0.782676534861111, 2.68...</td>\n",
       "    </tr>\n",
       "  </tbody>\n",
       "</table>\n",
       "</div>"
      ],
      "text/plain": [
       "             id                                             vector\n",
       "0    1901140015  [[-1.579109286842105, 2.9206601189473687, -0.1...\n",
       "1    1901362601  [[-1.7639175999999999, -3.2602275249999995, 2....\n",
       "2      18110336  [[-4.3450105425, 0.24810093499999986, 4.423870...\n",
       "3  190901191133  [[-5.1014285, 2.597416484444445, 5.91408673333...\n",
       "4      19041230  [[-3.6661185405555554, 0.782676534861111, 2.68..."
      ]
     },
     "execution_count": 9,
     "metadata": {},
     "output_type": "execute_result"
    }
   ],
   "source": [
    "json_file.head()"
   ]
  },
  {
   "cell_type": "code",
   "execution_count": 10,
   "metadata": {},
   "outputs": [
    {
     "data": {
      "text/html": [
       "<div>\n",
       "<style scoped>\n",
       "    .dataframe tbody tr th:only-of-type {\n",
       "        vertical-align: middle;\n",
       "    }\n",
       "\n",
       "    .dataframe tbody tr th {\n",
       "        vertical-align: top;\n",
       "    }\n",
       "\n",
       "    .dataframe thead th {\n",
       "        text-align: right;\n",
       "    }\n",
       "</style>\n",
       "<table border=\"1\" class=\"dataframe\">\n",
       "  <thead>\n",
       "    <tr style=\"text-align: right;\">\n",
       "      <th></th>\n",
       "      <th>id</th>\n",
       "      <th>score</th>\n",
       "    </tr>\n",
       "  </thead>\n",
       "  <tbody>\n",
       "    <tr>\n",
       "      <th>0</th>\n",
       "      <td>201922301</td>\n",
       "      <td>4.14</td>\n",
       "    </tr>\n",
       "    <tr>\n",
       "      <th>1</th>\n",
       "      <td>20191721032</td>\n",
       "      <td>3.36</td>\n",
       "    </tr>\n",
       "    <tr>\n",
       "      <th>2</th>\n",
       "      <td>201906005</td>\n",
       "      <td>3.47</td>\n",
       "    </tr>\n",
       "    <tr>\n",
       "      <th>3</th>\n",
       "      <td>201906004</td>\n",
       "      <td>3.54</td>\n",
       "    </tr>\n",
       "    <tr>\n",
       "      <th>4</th>\n",
       "      <td>201823164</td>\n",
       "      <td>3.80</td>\n",
       "    </tr>\n",
       "  </tbody>\n",
       "</table>\n",
       "</div>"
      ],
      "text/plain": [
       "            id  score\n",
       "0    201922301   4.14\n",
       "1  20191721032   3.36\n",
       "2    201906005   3.47\n",
       "3    201906004   3.54\n",
       "4    201823164   3.80"
      ]
     },
     "execution_count": 10,
     "metadata": {},
     "output_type": "execute_result"
    }
   ],
   "source": [
    "data.head()"
   ]
  },
  {
   "cell_type": "code",
   "execution_count": 11,
   "metadata": {},
   "outputs": [],
   "source": [
    "data = pd.merge(data, json_file)"
   ]
  },
  {
   "cell_type": "code",
   "execution_count": 12,
   "metadata": {},
   "outputs": [],
   "source": [
    "data = data.dropna()"
   ]
  },
  {
   "cell_type": "code",
   "execution_count": 13,
   "metadata": {},
   "outputs": [
    {
     "data": {
      "text/html": [
       "<div>\n",
       "<style scoped>\n",
       "    .dataframe tbody tr th:only-of-type {\n",
       "        vertical-align: middle;\n",
       "    }\n",
       "\n",
       "    .dataframe tbody tr th {\n",
       "        vertical-align: top;\n",
       "    }\n",
       "\n",
       "    .dataframe thead th {\n",
       "        text-align: right;\n",
       "    }\n",
       "</style>\n",
       "<table border=\"1\" class=\"dataframe\">\n",
       "  <thead>\n",
       "    <tr style=\"text-align: right;\">\n",
       "      <th></th>\n",
       "      <th>id</th>\n",
       "      <th>score</th>\n",
       "      <th>vector</th>\n",
       "    </tr>\n",
       "  </thead>\n",
       "  <tbody>\n",
       "    <tr>\n",
       "      <th>0</th>\n",
       "      <td>201922301</td>\n",
       "      <td>4.14</td>\n",
       "      <td>[[-4.648576633333334, -0.1527824666666667, 5.5...</td>\n",
       "    </tr>\n",
       "    <tr>\n",
       "      <th>1</th>\n",
       "      <td>20191721032</td>\n",
       "      <td>3.36</td>\n",
       "      <td>[[-2.462165133333333, -1.2517511333333333, 6.6...</td>\n",
       "    </tr>\n",
       "    <tr>\n",
       "      <th>2</th>\n",
       "      <td>201906004</td>\n",
       "      <td>3.54</td>\n",
       "      <td>[[-3.7282987317142857, 1.0043741571428575, 5.0...</td>\n",
       "    </tr>\n",
       "    <tr>\n",
       "      <th>3</th>\n",
       "      <td>201822048</td>\n",
       "      <td>3.98</td>\n",
       "      <td>[[-2.4070685, 1.4974684000000003, 0.9653421999...</td>\n",
       "    </tr>\n",
       "    <tr>\n",
       "      <th>4</th>\n",
       "      <td>201822042</td>\n",
       "      <td>3.51</td>\n",
       "      <td>[[-5.945544979999999, 2.07371892, 5.2692115799...</td>\n",
       "    </tr>\n",
       "  </tbody>\n",
       "</table>\n",
       "</div>"
      ],
      "text/plain": [
       "            id  score                                             vector\n",
       "0    201922301   4.14  [[-4.648576633333334, -0.1527824666666667, 5.5...\n",
       "1  20191721032   3.36  [[-2.462165133333333, -1.2517511333333333, 6.6...\n",
       "2    201906004   3.54  [[-3.7282987317142857, 1.0043741571428575, 5.0...\n",
       "3    201822048   3.98  [[-2.4070685, 1.4974684000000003, 0.9653421999...\n",
       "4    201822042   3.51  [[-5.945544979999999, 2.07371892, 5.2692115799..."
      ]
     },
     "execution_count": 13,
     "metadata": {},
     "output_type": "execute_result"
    }
   ],
   "source": [
    "data.head()"
   ]
  },
  {
   "cell_type": "code",
   "execution_count": 14,
   "metadata": {},
   "outputs": [
    {
     "data": {
      "text/plain": [
       "(3423, 3)"
      ]
     },
     "execution_count": 14,
     "metadata": {},
     "output_type": "execute_result"
    }
   ],
   "source": [
    "data.shape"
   ]
  },
  {
   "cell_type": "code",
   "execution_count": 15,
   "metadata": {},
   "outputs": [],
   "source": [
    "def truncate(content):\n",
    "    return content[0]"
   ]
  },
  {
   "cell_type": "code",
   "execution_count": 16,
   "metadata": {},
   "outputs": [],
   "source": [
    "data['vector_100'] = data.vector.apply(truncate)"
   ]
  },
  {
   "cell_type": "code",
   "execution_count": 17,
   "metadata": {},
   "outputs": [
    {
     "data": {
      "text/html": [
       "<div>\n",
       "<style scoped>\n",
       "    .dataframe tbody tr th:only-of-type {\n",
       "        vertical-align: middle;\n",
       "    }\n",
       "\n",
       "    .dataframe tbody tr th {\n",
       "        vertical-align: top;\n",
       "    }\n",
       "\n",
       "    .dataframe thead th {\n",
       "        text-align: right;\n",
       "    }\n",
       "</style>\n",
       "<table border=\"1\" class=\"dataframe\">\n",
       "  <thead>\n",
       "    <tr style=\"text-align: right;\">\n",
       "      <th></th>\n",
       "      <th>id</th>\n",
       "      <th>score</th>\n",
       "      <th>vector</th>\n",
       "      <th>vector_100</th>\n",
       "    </tr>\n",
       "  </thead>\n",
       "  <tbody>\n",
       "    <tr>\n",
       "      <th>0</th>\n",
       "      <td>201922301</td>\n",
       "      <td>4.14</td>\n",
       "      <td>[[-4.648576633333334, -0.1527824666666667, 5.5...</td>\n",
       "      <td>[-4.648576633333334, -0.1527824666666667, 5.57...</td>\n",
       "    </tr>\n",
       "    <tr>\n",
       "      <th>1</th>\n",
       "      <td>20191721032</td>\n",
       "      <td>3.36</td>\n",
       "      <td>[[-2.462165133333333, -1.2517511333333333, 6.6...</td>\n",
       "      <td>[-2.462165133333333, -1.2517511333333333, 6.63...</td>\n",
       "    </tr>\n",
       "    <tr>\n",
       "      <th>2</th>\n",
       "      <td>201906004</td>\n",
       "      <td>3.54</td>\n",
       "      <td>[[-3.7282987317142857, 1.0043741571428575, 5.0...</td>\n",
       "      <td>[-3.7282987317142857, 1.0043741571428575, 5.03...</td>\n",
       "    </tr>\n",
       "    <tr>\n",
       "      <th>3</th>\n",
       "      <td>201822048</td>\n",
       "      <td>3.98</td>\n",
       "      <td>[[-2.4070685, 1.4974684000000003, 0.9653421999...</td>\n",
       "      <td>[-2.4070685, 1.4974684000000003, 0.96534219999...</td>\n",
       "    </tr>\n",
       "    <tr>\n",
       "      <th>4</th>\n",
       "      <td>201822042</td>\n",
       "      <td>3.51</td>\n",
       "      <td>[[-5.945544979999999, 2.07371892, 5.2692115799...</td>\n",
       "      <td>[-5.945544979999999, 2.07371892, 5.26921157999...</td>\n",
       "    </tr>\n",
       "  </tbody>\n",
       "</table>\n",
       "</div>"
      ],
      "text/plain": [
       "            id  score                                             vector  \\\n",
       "0    201922301   4.14  [[-4.648576633333334, -0.1527824666666667, 5.5...   \n",
       "1  20191721032   3.36  [[-2.462165133333333, -1.2517511333333333, 6.6...   \n",
       "2    201906004   3.54  [[-3.7282987317142857, 1.0043741571428575, 5.0...   \n",
       "3    201822048   3.98  [[-2.4070685, 1.4974684000000003, 0.9653421999...   \n",
       "4    201822042   3.51  [[-5.945544979999999, 2.07371892, 5.2692115799...   \n",
       "\n",
       "                                          vector_100  \n",
       "0  [-4.648576633333334, -0.1527824666666667, 5.57...  \n",
       "1  [-2.462165133333333, -1.2517511333333333, 6.63...  \n",
       "2  [-3.7282987317142857, 1.0043741571428575, 5.03...  \n",
       "3  [-2.4070685, 1.4974684000000003, 0.96534219999...  \n",
       "4  [-5.945544979999999, 2.07371892, 5.26921157999...  "
      ]
     },
     "execution_count": 17,
     "metadata": {},
     "output_type": "execute_result"
    }
   ],
   "source": [
    "data.head()"
   ]
  },
  {
   "cell_type": "code",
   "execution_count": 18,
   "metadata": {},
   "outputs": [],
   "source": [
    "data.score = data.score.astype(np.float32)"
   ]
  },
  {
   "cell_type": "code",
   "execution_count": 19,
   "metadata": {},
   "outputs": [],
   "source": [
    "target = data.score.to_list()"
   ]
  },
  {
   "cell_type": "code",
   "execution_count": 20,
   "metadata": {},
   "outputs": [],
   "source": [
    "target =  np.array(target)\n",
    "target = target.astype(np.float32)"
   ]
  },
  {
   "cell_type": "code",
   "execution_count": 21,
   "metadata": {},
   "outputs": [],
   "source": [
    "vector_100 = data.vector_100.to_list()"
   ]
  },
  {
   "cell_type": "code",
   "execution_count": 22,
   "metadata": {},
   "outputs": [],
   "source": [
    "vector_100 = np.array(vector_100)"
   ]
  },
  {
   "cell_type": "code",
   "execution_count": null,
   "metadata": {},
   "outputs": [],
   "source": []
  },
  {
   "cell_type": "code",
   "execution_count": null,
   "metadata": {},
   "outputs": [],
   "source": []
  },
  {
   "cell_type": "code",
   "execution_count": null,
   "metadata": {},
   "outputs": [],
   "source": []
  },
  {
   "cell_type": "code",
   "execution_count": 23,
   "metadata": {},
   "outputs": [],
   "source": [
    "from tensorflow.python.keras.models import Sequential\n",
    "import tensorflow as tf\n",
    "from tensorflow import keras\n",
    "from tensorflow import initializers as init"
   ]
  },
  {
   "cell_type": "code",
   "execution_count": 24,
   "metadata": {},
   "outputs": [],
   "source": [
    "model = Sequential()\n",
    "model.add(keras.layers.Dense(4, input_shape=(100,), activation='sigmoid'))\n",
    "model.add(keras.layers.Dense(1))"
   ]
  },
  {
   "cell_type": "code",
   "execution_count": 25,
   "metadata": {},
   "outputs": [],
   "source": [
    "model.compile(loss = 'mse',\n",
    "             optimizer='adam')  "
   ]
  },
  {
   "cell_type": "code",
   "execution_count": 26,
   "metadata": {
    "tags": []
   },
   "outputs": [
    {
     "name": "stdout",
     "output_type": "stream",
     "text": [
      "Epoch 1/30\n",
      "97/97 [==============================] - 0s 2ms/step - loss: 12.4181 - val_loss: 8.4531\n",
      "Epoch 2/30\n",
      "97/97 [==============================] - 0s 2ms/step - loss: 8.0929 - val_loss: 6.1467\n",
      "Epoch 3/30\n",
      "97/97 [==============================] - 0s 2ms/step - loss: 6.3008 - val_loss: 4.8456\n",
      "Epoch 4/30\n",
      "97/97 [==============================] - 0s 1ms/step - loss: 5.1594 - val_loss: 3.9121\n",
      "Epoch 5/30\n",
      "97/97 [==============================] - 0s 1ms/step - loss: 4.2870 - val_loss: 3.1775\n",
      "Epoch 6/30\n",
      "97/97 [==============================] - 0s 1ms/step - loss: 3.5732 - val_loss: 2.5730\n",
      "Epoch 7/30\n",
      "97/97 [==============================] - 0s 1ms/step - loss: 2.9687 - val_loss: 2.0631\n",
      "Epoch 8/30\n",
      "97/97 [==============================] - 0s 1ms/step - loss: 2.4342 - val_loss: 1.5991\n",
      "Epoch 9/30\n",
      "97/97 [==============================] - 0s 1ms/step - loss: 1.8623 - val_loss: 1.0567\n",
      "Epoch 10/30\n",
      "97/97 [==============================] - 0s 1ms/step - loss: 1.2217 - val_loss: 0.6161\n",
      "Epoch 11/30\n",
      "97/97 [==============================] - 0s 1ms/step - loss: 0.7887 - val_loss: 0.3641\n",
      "Epoch 12/30\n",
      "97/97 [==============================] - 0s 1ms/step - loss: 0.5297 - val_loss: 0.2293\n",
      "Epoch 13/30\n",
      "97/97 [==============================] - 0s 1ms/step - loss: 0.3747 - val_loss: 0.1616\n",
      "Epoch 14/30\n",
      "97/97 [==============================] - 0s 1ms/step - loss: 0.2828 - val_loss: 0.1321\n",
      "Epoch 15/30\n",
      "97/97 [==============================] - 0s 1ms/step - loss: 0.2297 - val_loss: 0.1242\n",
      "Epoch 16/30\n",
      "97/97 [==============================] - 0s 1ms/step - loss: 0.2001 - val_loss: 0.1267\n",
      "Epoch 17/30\n",
      "97/97 [==============================] - 0s 1ms/step - loss: 0.1841 - val_loss: 0.1334\n",
      "Epoch 18/30\n",
      "97/97 [==============================] - 0s 1ms/step - loss: 0.1757 - val_loss: 0.1410\n",
      "Epoch 19/30\n",
      "97/97 [==============================] - 0s 1ms/step - loss: 0.1715 - val_loss: 0.1481\n",
      "Epoch 20/30\n",
      "97/97 [==============================] - 0s 1ms/step - loss: 0.1694 - val_loss: 0.1535\n",
      "Epoch 21/30\n",
      "97/97 [==============================] - 0s 1ms/step - loss: 0.1684 - val_loss: 0.1573\n",
      "Epoch 22/30\n",
      "97/97 [==============================] - 0s 1ms/step - loss: 0.1679 - val_loss: 0.1595\n",
      "Epoch 23/30\n",
      "97/97 [==============================] - 0s 2ms/step - loss: 0.1675 - val_loss: 0.1621\n",
      "Epoch 24/30\n",
      "97/97 [==============================] - 0s 1ms/step - loss: 0.1673 - val_loss: 0.1633\n",
      "Epoch 25/30\n",
      "97/97 [==============================] - 0s 1ms/step - loss: 0.1671 - val_loss: 0.1642\n",
      "Epoch 26/30\n",
      "97/97 [==============================] - 0s 1ms/step - loss: 0.1669 - val_loss: 0.1636\n",
      "Epoch 27/30\n",
      "97/97 [==============================] - 0s 2ms/step - loss: 0.1667 - val_loss: 0.1649\n",
      "Epoch 28/30\n",
      "97/97 [==============================] - 0s 1ms/step - loss: 0.1666 - val_loss: 0.1640\n",
      "Epoch 29/30\n",
      "97/97 [==============================] - 0s 1ms/step - loss: 0.1664 - val_loss: 0.1647\n",
      "Epoch 30/30\n",
      "97/97 [==============================] - 0s 1ms/step - loss: 0.1662 - val_loss: 0.1657\n"
     ]
    },
    {
     "data": {
      "text/plain": [
       "<tensorflow.python.keras.callbacks.History at 0x13b7534d0>"
      ]
     },
     "execution_count": 26,
     "metadata": {},
     "output_type": "execute_result"
    }
   ],
   "source": [
    "model.fit(vector_100/10, target, epochs=30, validation_split=0.1)"
   ]
  },
  {
   "cell_type": "code",
   "execution_count": 27,
   "metadata": {
    "tags": []
   },
   "outputs": [],
   "source": [
    "num_sen = []\n",
    "for i in data.vector:\n",
    "    num_sen.append(i.shape[0])"
   ]
  },
  {
   "cell_type": "code",
   "execution_count": 28,
   "metadata": {},
   "outputs": [],
   "source": [
    "num_sen = np.array(num_sen)"
   ]
  },
  {
   "cell_type": "code",
   "execution_count": 29,
   "metadata": {},
   "outputs": [
    {
     "data": {
      "text/plain": [
       "70.13701431492842"
      ]
     },
     "execution_count": 29,
     "metadata": {},
     "output_type": "execute_result"
    }
   ],
   "source": [
    "np.mean(num_sen)"
   ]
  },
  {
   "cell_type": "code",
   "execution_count": 30,
   "metadata": {},
   "outputs": [
    {
     "data": {
      "text/plain": [
       "168"
      ]
     },
     "execution_count": 30,
     "metadata": {},
     "output_type": "execute_result"
    }
   ],
   "source": [
    "max_sen = np.mean(num_sen) + 2 * np.std(num_sen)\n",
    "max_sen = int(max_sen)\n",
    "max_sen# = 50"
   ]
  },
  {
   "cell_type": "code",
   "execution_count": 31,
   "metadata": {},
   "outputs": [
    {
     "data": {
      "text/plain": [
       "0.9932807478819748"
      ]
     },
     "execution_count": 31,
     "metadata": {},
     "output_type": "execute_result"
    }
   ],
   "source": [
    "# 句子的个数可以覆盖的范围\n",
    "np.sum(num_sen < max_sen) / len(num_sen)"
   ]
  },
  {
   "cell_type": "code",
   "execution_count": 32,
   "metadata": {},
   "outputs": [],
   "source": [
    "def uniform(content):\n",
    "    if (content.shape[0]>=max_sen):\n",
    "        return content[0:max_sen]\n",
    "    else:\n",
    "        return np.pad(content, [[0, max_sen-content.shape[0]], [0, 0]])"
   ]
  },
  {
   "cell_type": "code",
   "execution_count": 33,
   "metadata": {},
   "outputs": [],
   "source": [
    "data.vector = data.vector.apply(uniform)"
   ]
  },
  {
   "cell_type": "code",
   "execution_count": 34,
   "metadata": {},
   "outputs": [],
   "source": [
    "vector = np.array(data.vector.to_list())"
   ]
  },
  {
   "cell_type": "code",
   "execution_count": 35,
   "metadata": {},
   "outputs": [
    {
     "data": {
      "text/plain": [
       "(3423, 168, 100)"
      ]
     },
     "execution_count": 35,
     "metadata": {},
     "output_type": "execute_result"
    }
   ],
   "source": [
    "vector.shape"
   ]
  },
  {
   "cell_type": "code",
   "execution_count": null,
   "metadata": {},
   "outputs": [],
   "source": []
  },
  {
   "cell_type": "code",
   "execution_count": null,
   "metadata": {},
   "outputs": [],
   "source": []
  },
  {
   "cell_type": "code",
   "execution_count": 36,
   "metadata": {
    "tags": []
   },
   "outputs": [],
   "source": [
    "# Load the TensorBoard notebook extension\n",
    "%load_ext tensorboard"
   ]
  },
  {
   "cell_type": "code",
   "execution_count": 37,
   "metadata": {},
   "outputs": [],
   "source": [
    "# Clear any logs from previous runs\n",
    "!rm -rf ./logs/ "
   ]
  },
  {
   "cell_type": "code",
   "execution_count": 56,
   "metadata": {},
   "outputs": [],
   "source": [
    "log_dir = \"./logs/fit/\" + datetime.datetime.now().strftime(\"%Y%m%d-%H%M%S\")\n",
    "tensorboard_callback = tf.keras.callbacks.TensorBoard(log_dir=log_dir, histogram_freq=1)"
   ]
  },
  {
   "cell_type": "code",
   "execution_count": null,
   "metadata": {},
   "outputs": [],
   "source": []
  },
  {
   "cell_type": "code",
   "execution_count": null,
   "metadata": {},
   "outputs": [],
   "source": []
  },
  {
   "cell_type": "code",
   "execution_count": 58,
   "metadata": {},
   "outputs": [],
   "source": [
    "from sklearn.model_selection import train_test_split"
   ]
  },
  {
   "cell_type": "code",
   "execution_count": 59,
   "metadata": {},
   "outputs": [],
   "source": [
    "X_train, X_test, y_train, y_test = train_test_split(vector,\n",
    "                                                    target,\n",
    "                                                    test_size=0.1,\n",
    "                                                    random_state=12)"
   ]
  },
  {
   "cell_type": "code",
   "execution_count": 60,
   "metadata": {},
   "outputs": [],
   "source": [
    "model2 = Sequential()\n",
    "model2.add(keras.layers.Dense(20, input_shape=(168,100), activation='relu'))\n",
    "model2.add(keras.layers.Dense(10))\n",
    "model2.add(keras.layers.Dense(5, activation='relu'))\n",
    "model2.add(keras.layers.Dense(1, activation='linear'))"
   ]
  },
  {
   "cell_type": "code",
   "execution_count": 61,
   "metadata": {},
   "outputs": [],
   "source": [
    "model2.compile(loss='mse',\n",
    "                optimizer='rmsprop')"
   ]
  },
  {
   "cell_type": "code",
   "execution_count": 62,
   "metadata": {
    "tags": []
   },
   "outputs": [
    {
     "name": "stdout",
     "output_type": "stream",
     "text": [
      "Epoch 1/50\n",
      "22/22 [==============================] - 1s 25ms/step - loss: 9.8554 - val_loss: 8.4107\n",
      "Epoch 2/50\n",
      "22/22 [==============================] - 0s 17ms/step - loss: 8.2139 - val_loss: 7.7754\n",
      "Epoch 3/50\n",
      "22/22 [==============================] - 0s 16ms/step - loss: 7.4920 - val_loss: 6.9728\n",
      "Epoch 4/50\n",
      "22/22 [==============================] - 0s 18ms/step - loss: 6.6303 - val_loss: 6.0115\n",
      "Epoch 5/50\n",
      "22/22 [==============================] - 1s 23ms/step - loss: 5.6012 - val_loss: 4.8977\n",
      "Epoch 6/50\n",
      "22/22 [==============================] - 0s 20ms/step - loss: 4.4195 - val_loss: 3.6608\n",
      "Epoch 7/50\n",
      "22/22 [==============================] - 0s 20ms/step - loss: 3.1466 - val_loss: 2.4065\n",
      "Epoch 8/50\n",
      "22/22 [==============================] - 0s 19ms/step - loss: 1.9225 - val_loss: 1.2975\n",
      "Epoch 9/50\n",
      "22/22 [==============================] - 0s 21ms/step - loss: 0.9772 - val_loss: 0.5798\n",
      "Epoch 10/50\n",
      "22/22 [==============================] - 0s 18ms/step - loss: 0.4988 - val_loss: 0.3653\n",
      "Epoch 11/50\n",
      "22/22 [==============================] - 0s 20ms/step - loss: 0.3650 - val_loss: 0.3331\n",
      "Epoch 12/50\n",
      "22/22 [==============================] - 0s 20ms/step - loss: 0.3383 - val_loss: 0.2851\n",
      "Epoch 13/50\n",
      "22/22 [==============================] - 0s 20ms/step - loss: 0.3076 - val_loss: 0.3695\n",
      "Epoch 14/50\n",
      "22/22 [==============================] - 0s 20ms/step - loss: 0.2978 - val_loss: 0.2517\n",
      "Epoch 15/50\n",
      "22/22 [==============================] - 1s 25ms/step - loss: 0.2889 - val_loss: 0.2612\n",
      "Epoch 16/50\n",
      "22/22 [==============================] - 1s 23ms/step - loss: 0.2689 - val_loss: 0.2661\n",
      "Epoch 17/50\n",
      "22/22 [==============================] - 0s 20ms/step - loss: 0.2702 - val_loss: 0.2479\n",
      "Epoch 18/50\n",
      "22/22 [==============================] - 0s 20ms/step - loss: 0.2580 - val_loss: 0.2189\n",
      "Epoch 19/50\n",
      "22/22 [==============================] - 0s 20ms/step - loss: 0.2568 - val_loss: 0.2191\n",
      "Epoch 20/50\n",
      "22/22 [==============================] - 0s 20ms/step - loss: 0.2513 - val_loss: 0.2095\n",
      "Epoch 21/50\n",
      "22/22 [==============================] - 0s 20ms/step - loss: 0.2443 - val_loss: 0.2664\n",
      "Epoch 22/50\n",
      "22/22 [==============================] - 0s 20ms/step - loss: 0.2378 - val_loss: 0.2241\n",
      "Epoch 23/50\n",
      "22/22 [==============================] - 0s 20ms/step - loss: 0.2446 - val_loss: 0.1987\n",
      "Epoch 24/50\n",
      "22/22 [==============================] - 0s 21ms/step - loss: 0.2292 - val_loss: 0.1953\n",
      "Epoch 25/50\n",
      "22/22 [==============================] - 0s 20ms/step - loss: 0.2361 - val_loss: 0.1988\n",
      "Epoch 26/50\n",
      "22/22 [==============================] - 0s 20ms/step - loss: 0.2221 - val_loss: 0.2082\n",
      "Epoch 27/50\n",
      "22/22 [==============================] - 0s 19ms/step - loss: 0.2350 - val_loss: 0.1982\n",
      "Epoch 28/50\n",
      "22/22 [==============================] - 0s 19ms/step - loss: 0.2262 - val_loss: 0.1885\n",
      "Epoch 29/50\n",
      "22/22 [==============================] - 0s 21ms/step - loss: 0.2190 - val_loss: 0.2099\n",
      "Epoch 30/50\n",
      "22/22 [==============================] - 0s 20ms/step - loss: 0.2203 - val_loss: 0.1996\n",
      "Epoch 31/50\n",
      "22/22 [==============================] - 0s 20ms/step - loss: 0.2236 - val_loss: 0.1966\n",
      "Epoch 32/50\n",
      "22/22 [==============================] - 0s 20ms/step - loss: 0.2144 - val_loss: 0.1897\n",
      "Epoch 33/50\n",
      "22/22 [==============================] - 0s 20ms/step - loss: 0.2193 - val_loss: 0.1770\n",
      "Epoch 34/50\n",
      "22/22 [==============================] - 0s 20ms/step - loss: 0.2158 - val_loss: 0.1731\n",
      "Epoch 35/50\n",
      "22/22 [==============================] - 0s 21ms/step - loss: 0.2092 - val_loss: 0.1768\n",
      "Epoch 36/50\n",
      "22/22 [==============================] - 0s 20ms/step - loss: 0.2121 - val_loss: 0.1773\n",
      "Epoch 37/50\n",
      "22/22 [==============================] - 0s 19ms/step - loss: 0.2139 - val_loss: 0.1696\n",
      "Epoch 38/50\n",
      "22/22 [==============================] - 0s 20ms/step - loss: 0.2088 - val_loss: 0.1680\n",
      "Epoch 39/50\n",
      "22/22 [==============================] - 0s 21ms/step - loss: 0.2029 - val_loss: 0.1667\n",
      "Epoch 40/50\n",
      "22/22 [==============================] - 0s 20ms/step - loss: 0.2059 - val_loss: 0.1661\n",
      "Epoch 41/50\n",
      "22/22 [==============================] - 0s 20ms/step - loss: 0.2077 - val_loss: 0.1692\n",
      "Epoch 42/50\n",
      "22/22 [==============================] - 0s 20ms/step - loss: 0.1963 - val_loss: 0.1998\n",
      "Epoch 43/50\n",
      "22/22 [==============================] - 0s 21ms/step - loss: 0.2041 - val_loss: 0.1869\n",
      "Epoch 44/50\n",
      "22/22 [==============================] - 0s 20ms/step - loss: 0.1979 - val_loss: 0.1612\n",
      "Epoch 45/50\n",
      "22/22 [==============================] - 0s 19ms/step - loss: 0.2005 - val_loss: 0.1744\n",
      "Epoch 46/50\n",
      "22/22 [==============================] - 0s 20ms/step - loss: 0.1992 - val_loss: 0.1722\n",
      "Epoch 47/50\n",
      "22/22 [==============================] - 0s 21ms/step - loss: 0.1963 - val_loss: 0.1587\n",
      "Epoch 48/50\n",
      "22/22 [==============================] - 0s 20ms/step - loss: 0.1907 - val_loss: 0.1594\n",
      "Epoch 49/50\n",
      "22/22 [==============================] - 0s 22ms/step - loss: 0.1956 - val_loss: 0.2068\n",
      "Epoch 50/50\n",
      "22/22 [==============================] - 0s 22ms/step - loss: 0.1947 - val_loss: 0.1605\n"
     ]
    },
    {
     "data": {
      "text/plain": [
       "<tensorflow.python.keras.callbacks.History at 0x13f84c910>"
      ]
     },
     "execution_count": 62,
     "metadata": {},
     "output_type": "execute_result"
    }
   ],
   "source": [
    "model2.fit(X_train, y_train, epochs=50, validation_split=0.1, batch_size=128, callbacks=[tensorboard_callback])"
   ]
  },
  {
   "cell_type": "code",
   "execution_count": 63,
   "metadata": {},
   "outputs": [
    {
     "data": {
      "text/plain": [
       "Reusing TensorBoard on port 6007 (pid 48162), started 0:03:43 ago. (Use '!kill 48162' to kill it.)"
      ]
     },
     "metadata": {},
     "output_type": "display_data"
    },
    {
     "data": {
      "text/html": [
       "\n",
       "      <iframe id=\"tensorboard-frame-17cb7709a661af42\" width=\"100%\" height=\"800\" frameborder=\"0\">\n",
       "      </iframe>\n",
       "      <script>\n",
       "        (function() {\n",
       "          const frame = document.getElementById(\"tensorboard-frame-17cb7709a661af42\");\n",
       "          const url = new URL(\"/\", window.location);\n",
       "          url.port = 6007;\n",
       "          frame.src = url;\n",
       "        })();\n",
       "      </script>\n",
       "  "
      ],
      "text/plain": [
       "<IPython.core.display.HTML object>"
      ]
     },
     "metadata": {},
     "output_type": "display_data"
    }
   ],
   "source": [
    "%tensorboard --logdir ./logs/fit"
   ]
  },
  {
   "cell_type": "code",
   "execution_count": 41,
   "metadata": {},
   "outputs": [],
   "source": []
  },
  {
   "cell_type": "code",
   "execution_count": 42,
   "metadata": {},
   "outputs": [],
   "source": []
  },
  {
   "cell_type": "code",
   "execution_count": null,
   "metadata": {},
   "outputs": [],
   "source": []
  }
 ],
 "metadata": {
  "kernelspec": {
   "display_name": "Python 3.7.7 64-bit",
   "language": "python",
   "name": "python37764bitd4b50bd186554f7e8ae6655ef2a0b763"
  },
  "language_info": {
   "codemirror_mode": {
    "name": "ipython",
    "version": 3
   },
   "file_extension": ".py",
   "mimetype": "text/x-python",
   "name": "python",
   "nbconvert_exporter": "python",
   "pygments_lexer": "ipython3",
   "version": "3.7.7"
  },
  "toc": {
   "base_numbering": 1,
   "nav_menu": {},
   "number_sections": true,
   "sideBar": true,
   "skip_h1_title": false,
   "title_cell": "Table of Contents",
   "title_sidebar": "Contents",
   "toc_cell": false,
   "toc_position": {},
   "toc_section_display": true,
   "toc_window_display": false
  }
 },
 "nbformat": 4,
 "nbformat_minor": 2
}
