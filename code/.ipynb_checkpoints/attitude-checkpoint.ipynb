{
 "cells": [
  {
   "cell_type": "code",
   "execution_count": 4,
   "metadata": {},
   "outputs": [],
   "source": [
    "import numpy as np\n",
    "import pandas as pd\n",
    "import jieba\n",
    "import bz2\n",
    "from gensim.models import KeyedVectors\n",
    "import os\n",
    "import re"
   ]
  },
  {
   "cell_type": "code",
   "execution_count": 5,
   "metadata": {},
   "outputs": [],
   "source": [
    "#显示所有列\n",
    "pd.set_option('display.max_columns', None)\n",
    "#显示所有行\n",
    "pd.set_option('display.max_rows', None)\n",
    "#设置value的显示长度为100，默认为50\n",
    "pd.set_option('max_colwidth',100)"
   ]
  },
  {
   "cell_type": "code",
   "execution_count": null,
   "metadata": {
    "tags": []
   },
   "outputs": [
    {
     "name": "stdout",
     "output_type": "stream",
     "text": [
      "3190100860.xlsx\n",
      "3190102585.xlsx\n",
      "3180103833.xlsx\n",
      "3180105325.xlsx\n",
      "3170104035.xlsx\n",
      "3190105774.xlsx\n",
      "3190102617.xlsx\n",
      "3190101852.xlsx\n",
      "3180105833.xlsx\n",
      "3190102068.xlsx\n",
      "3180100368.xlsx\n",
      "3180102566.xlsx\n",
      "3190105973.xlsx\n",
      "3190100692.xlsx\n",
      "3160102936.xlsx\n",
      "3190104855.xlsx\n",
      "3180106125.xlsx\n",
      "3170101161.xlsx\n",
      "3180105610.xlsx\n",
      "3180104999.xlsx\n",
      "3180105918.xlsx\n",
      "3180104096.xlsx\n",
      "3170104494.xlsx\n",
      "11616077.xlsx\n",
      "3190101477.xlsx\n",
      "3170106011.xlsx\n",
      "3180102293.xlsx\n",
      "3190104951.xlsx\n",
      "3180104580.xlsx\n",
      "3180101677.xlsx\n",
      "3180102871.xlsx\n",
      "3180101678.xlsx\n",
      "3180103075.xlsx\n",
      "3190100547.xlsx\n",
      "3180102499.xlsx\n",
      "3190102389.xlsx\n",
      "3189901004.xlsx\n",
      "3190100747.xlsx\n",
      "3170100445.xlsx\n",
      "3160100367.xlsx\n",
      "3180100963.xlsx\n",
      "3170104215 .xlsx\n",
      "3160105291.xlsx\n",
      "11927088.xlsx\n",
      "3180101329.xlsx\n",
      "3180104796.xlsx\n",
      "3180101287.xlsx\n",
      "21933022.xlsx\n",
      "3180103878.xlsx\n",
      "3170101421.xlsx\n",
      "3190103786.xlsx\n",
      "3190102410.xlsx\n",
      "3190101982.xlsx\n",
      "3190101239.xlsx\n",
      "3180106341.xlsx\n",
      "3170103396.xlsx\n",
      "3180105714.xlsx\n",
      "3170101904.xlsx\n",
      "3180101175.xlsx\n",
      "3180103736.xlsx\n",
      "3190106325.xlsx\n",
      "3180104650.xlsx\n",
      "3170100893.xlsx\n",
      "3190105602.xlsx\n",
      "3180100243.xlsx\n",
      "3170102136.xlsx\n",
      "3190103899.xlsx\n",
      "3180100125.xlsx\n",
      "3180105255.xlsx\n",
      "3160105317.xlsx\n",
      "3190104342.xlsx\n",
      "3190102011.xlsx\n",
      "3190103285.xlsx\n",
      "3190102042.xlsx\n",
      "3190104655.xlsx\n",
      "3170105821.xlsx\n",
      "3190103302.xlsx\n",
      "3160102357.xlsx\n",
      "3190102812.xlsx\n",
      "3190101793.xlsx\n",
      "3180101100.xlsx\n",
      "3190104374.xlsx\n",
      "3180103104.xlsx\n",
      "3190100818.xlsx\n",
      "3180101039.xlsx\n",
      "3190102681.xlsx\n",
      "3190103881.xlsx\n",
      "3170104230.xlsx\n",
      "3180105836.xlsx\n",
      "3190101135.xlsx\n",
      "3180101538.xlsx\n",
      "3160105779.xlsx\n",
      "3160105568.xlsx\n",
      "21937001.xlsx\n",
      "3190106071.xlsx\n",
      "3190102733.xlsx\n",
      "3180104441.xlsx\n",
      "3170104045.xlsx\n",
      "3180106412.xlsx\n",
      "3190100474.xlsx\n",
      "3180105163.xlsx\n",
      "3180102768.xlsx\n",
      "3170102068.xlsx\n",
      "3190102625.xlsx\n",
      "3180102193.xlsx\n",
      "3180104076.xlsx\n",
      "3180104152.xlsx\n",
      "3170102946.xlsx\n",
      "3180100444.xlsx\n",
      "3190103281.xlsx\n",
      "3180104908.xlsx\n",
      "3170101228.xlsx\n",
      "3150102501.xlsx\n",
      "3170103745.xlsx\n",
      "3190100192.xlsx\n",
      "21903040.xlsx\n",
      "3180103288.xlsx\n",
      "3170101899.xlsx\n",
      "3190102540.xlsx\n",
      "3190102918.xlsx\n",
      "3180105783.xlsx\n",
      "3190106008.xlsx\n",
      "3180104070.xlsx\n",
      "3190104605.xlsx\n",
      "3190103532.xlsx\n",
      "3190100700.xlsx\n",
      "3180103219.xlsx\n",
      "3180105140.xlsx\n",
      "3170101580.xlsx\n",
      "3180100032.xlsx\n",
      "3180102252.xlsx\n",
      "3160102453.xlsx\n",
      "3180105468.xlsx\n",
      "3170106448.xlsx\n",
      "3160102634.xlsx\n",
      "3180106140.xlsx\n",
      "3170101299.xlsx\n",
      "3190102864.xlsx\n",
      "3190104750.xlsx\n",
      "3190100659.xlsx\n",
      "3190101755.xlsx\n",
      "3190102760.xlsx\n",
      "3160105973.xlsx\n",
      "3170100373.xlsx\n",
      "3190101632.xlsx\n",
      "3180101085.xlsx\n",
      "3190103630.xlsx\n",
      "3170102191.xlsx\n",
      "3170103015.xlsx\n",
      "3160104325.xlsx\n",
      "3180101908.xlsx\n",
      "3170102267.xlsx\n",
      "3180100403.xlsx\n",
      "3170102492.xlsx\n",
      "3180102501.xlsx\n",
      "3170103000.xlsx\n",
      "3180105628.xlsx\n",
      "3180104371.xlsx\n",
      "3160104206.xlsx\n",
      "3170106303.xlsx\n",
      "3170106132.xlsx\n",
      "3190103468.xlsx\n",
      "3160103150.xlsx\n",
      "3170103790.xlsx\n",
      "3180104658.xlsx\n",
      "3160101767.xlsx\n",
      "3180104485.xlsx\n",
      "3180104248.xlsx\n",
      "3160102065.xlsx\n",
      "3190105787.xlsx\n",
      "3170101111.xlsx\n",
      "3170102108.xlsx\n",
      "3180102301.xlsx\n",
      "3180100369.xlsx\n",
      "3180104794.xlsx\n",
      "3190102595.xlsx\n",
      "3180102563.xlsx\n",
      "3180100994.xlsx\n",
      "3180102951.xlsx\n",
      "3190103892.xlsx\n",
      "3190100506.xlsx\n",
      "3170102147.xlsx\n",
      "3180100214.xlsx\n",
      "21933037.xlsx\n",
      "3190101264.xlsx\n",
      "3170101731.xlsx\n",
      "3170104461.xlsx\n",
      "3180105480.xlsx\n",
      "3190105236.xlsx\n",
      "3180105538.xlsx\n",
      "3160104619.xlsx\n",
      "3180100835.xlsx\n",
      "3180102042.xlsx\n",
      "3180100661.xlsx\n",
      "3180102355.xlsx\n",
      "3160100305.xlsx\n",
      "3190100143.xlsx\n",
      "3180101703.xlsx\n",
      "3190105771.xlsx\n",
      "3190101074.xlsx\n",
      "3180102673.xlsx\n",
      "3190102069.xlsx\n",
      "3170100273.xlsx\n",
      "3180104102.xlsx\n",
      "3170105579.xlsx\n",
      "3190102411.xlsx\n",
      "3170102477.xlsx\n",
      "3180103403.xlsx\n",
      "21933035.xlsx\n",
      "3180102039.xlsx\n",
      "3170105723.xlsx\n",
      "3180101330.xlsx\n",
      "3170104034.xlsx\n",
      "3170102430 .xlsx.xlsx\n",
      "3170106386.xlsx\n",
      "3170105874.xlsx\n",
      "21860021.xlsx\n",
      "3180102902.xlsx\n",
      "3170102464.xlsx\n",
      "3190102870.xlsx\n",
      "3160105659.xlsx\n",
      "3180103246.xlsx\n",
      "21929053.xlsx\n",
      "3180100965.xlsx\n",
      "3180103874.xlsx\n",
      "3180101471.xlsx\n",
      "3180104005.xlsx\n",
      "3170100994.xlsx\n",
      "3190102988.xlsx\n",
      "3190104088.xlsx\n",
      "3160101225.xlsx\n",
      "3160103526.xlsx\n",
      "3160100729.xlsx\n",
      "3170104314.xlsx\n",
      "3180101663.xlsx\n",
      "3160100778.xlsx\n",
      "3170104233.xlsx\n",
      "3190102234.xlsx\n",
      "3190102865.xlsx\n",
      "3160102052.xlsx\n",
      "3180103834.xlsx\n",
      "3190104439.xlsx\n",
      "3180104326.xlsx\n",
      "3190101901.xlsx\n",
      "3170105026.xlsx\n",
      "3180100577.xlsx\n",
      "3170100141.xlsx\n",
      "3170101970.xlsx\n",
      "3160102664.xlsx\n",
      "3190100578.xlsx\n",
      "3180100076.xlsx\n",
      "3160105530.xlsx\n",
      "3190104205.xlsx\n",
      "3190102454.xlsx\n",
      "3170105082.xlsx\n",
      "3180100494.xlsx\n",
      "3180101216.xlsx\n",
      "3160105687.xlsx\n",
      "3170101786.xlsx\n",
      "3180102007.xlsx\n",
      "3160102924.xlsx\n",
      "3190105191.xlsx\n",
      "3180105242.xlsx\n",
      "3180103921.xlsx\n",
      "3190103188.xlsx\n",
      "3180100500.xlsx\n",
      "3170106046.xlsx\n",
      "3180104188.xlsx\n",
      "3190106027.xlsx\n",
      "21922063.xlsx\n",
      "3180103997.xlsx\n",
      "3180104946.xlsx\n",
      "3190105776.xlsx\n",
      "3180105328.xlsx\n",
      "3180105469.xlsx\n",
      "3180103602.xlsx\n",
      "3160101238.xlsx\n",
      "21916208.xlsx\n",
      "21912261.xlsx\n",
      "3180105044.xlsx\n",
      "3180101896.xlsx\n",
      "3170101295.xlsx\n",
      "3190103081.xlsx\n",
      "3160102899.xlsx\n",
      "3190105322.xlsx\n",
      "3190103582.xlsx\n",
      "3180104150.xlsx\n",
      "3180103634.xlsx\n",
      "3180102638.xlsx\n",
      "3180103683.xlsx\n",
      "3170104018.xlsx\n",
      "3190103346.xlsx\n",
      "3190102432.xlsx\n",
      "3170102772.xlsx\n",
      "3190101871.xlsx\n",
      "3180103750.xlsx\n",
      "21914063.xlsx\n",
      "3160104254.xlsx\n",
      "3190105004.xlsx\n",
      "3160101022.xlsx\n",
      "3190103476.xlsx\n",
      "3180101665.xlsx\n",
      "3180100378.xlsx\n",
      "3180102712.xlsx\n",
      "3170100556.et\n",
      "3180100465.xlsx\n",
      "3190104155.xlsx\n",
      "3180105207.xlsx\n",
      "3170101958.xlsx\n",
      "3180103796.xlsx\n",
      "3180105296.xlsx\n",
      "3180103345.xlsx\n",
      "3180101266.xlsx\n",
      "3180105432.xlsx\n",
      "3170100995.xlsx\n",
      "3170100960.xlsx\n",
      "3180105394.xlsx\n",
      "3170103708.xlsx\n",
      "3170100797.xlsx\n",
      "3180100534.xlsx\n",
      "3160105533.xlsx\n",
      "3170104051.xlsx\n",
      "3190101546.xlsx\n",
      "12037025.xlsx\n",
      "3170102296.xlsx\n",
      "3190105793.xlsx\n",
      "3180105411.xlsx\n",
      "3160105636.xlsx\n",
      "11632018.xlsx\n",
      "3180105764.xlsx\n",
      "3160103299.xlsx\n",
      "3190105089.xlsx\n",
      "3170104863.xlsx\n"
     ]
    }
   ],
   "source": [
    "dir = '../data/zju'\n",
    "filenames = os.listdir(dir)\n",
    "dfs = []\n",
    "index = 1\n",
    "for name in filenames:\n",
    "    print(name)\n",
    "    dfs.append(pd.read_excel(os.path.join(dir, name))[['内容', '态度（1-10）打分']])\n",
    "df = pd.concat(dfs)\n",
    "df.head()"
   ]
  },
  {
   "cell_type": "code",
   "execution_count": null,
   "metadata": {},
   "outputs": [],
   "source": [
    "df = df.dropna()"
   ]
  },
  {
   "cell_type": "code",
   "execution_count": null,
   "metadata": {},
   "outputs": [],
   "source": [
    "df.columns = ['comment', 'attitude']"
   ]
  },
  {
   "cell_type": "code",
   "execution_count": null,
   "metadata": {},
   "outputs": [],
   "source": [
    "df.head()"
   ]
  },
  {
   "cell_type": "code",
   "execution_count": null,
   "metadata": {},
   "outputs": [],
   "source": [
    "emoji_pattern = re.compile(u'['\n",
    "        u'\\U0001F300-\\U0001F64F'\n",
    "        u'\\U0001F680-\\U0001F6FF'\n",
    "        u'\\ud000-\\udfff'\n",
    "        u'\\u2600-\\u2B55]+',\n",
    "        re.UNICODE)"
   ]
  },
  {
   "cell_type": "code",
   "execution_count": null,
   "metadata": {
    "tags": []
   },
   "outputs": [],
   "source": [
    "def word_cut(content):\n",
    "    if pd.isnull(content):\n",
    "        return None\n",
    "    content = re.sub(\"[\\s+\\.\\!\\/_,$%^*(+\\\"\\'\\]\\[\\]\\{\\}]+|[+——！，。？、～~@#￥%……&*（）]+\", \"\",str(content))\n",
    "    content = re.sub(emoji_pattern, \"\",content)\n",
    "    return content\n",
    "\n",
    "df['cut'] = df.comment.apply(word_cut)"
   ]
  },
  {
   "cell_type": "code",
   "execution_count": null,
   "metadata": {},
   "outputs": [],
   "source": [
    "df.head()"
   ]
  },
  {
   "cell_type": "code",
   "execution_count": null,
   "metadata": {},
   "outputs": [],
   "source": [
    "df[df['cut']=='内容']\n",
    "df = df.drop([61, 126, 124])"
   ]
  },
  {
   "cell_type": "code",
   "execution_count": null,
   "metadata": {},
   "outputs": [],
   "source": [
    "df[df['attitude']=='·10'] = 10"
   ]
  },
  {
   "cell_type": "code",
   "execution_count": null,
   "metadata": {},
   "outputs": [],
   "source": [
    "df.cut = df.cut.astype(str)\n",
    "df.attitude = df.attitude.astype(np.int8)"
   ]
  },
  {
   "cell_type": "code",
   "execution_count": null,
   "metadata": {},
   "outputs": [],
   "source": [
    "cn_model = KeyedVectors.load_word2vec_format('../embedding/sgns.renmin.word', binary=False, unicode_errors=\"ignore\")"
   ]
  },
  {
   "cell_type": "code",
   "execution_count": null,
   "metadata": {},
   "outputs": [],
   "source": [
    "train_text = df.cut.to_list()\n",
    "train_tag = df.attitude.to_list()"
   ]
  },
  {
   "cell_type": "code",
   "execution_count": null,
   "metadata": {
    "tags": []
   },
   "outputs": [],
   "source": [
    "print(len(train_text))\n",
    "print(len(train_tag))"
   ]
  },
  {
   "cell_type": "code",
   "execution_count": null,
   "metadata": {},
   "outputs": [],
   "source": [
    "demension = cn_model['测试'].shape[0]"
   ]
  },
  {
   "cell_type": "code",
   "execution_count": null,
   "metadata": {
    "tags": []
   },
   "outputs": [],
   "source": [
    "train_tokens = []\n",
    "for text in train_text:\n",
    "    # 结巴分词\n",
    "    cut = jieba.cut(text)\n",
    "    # 结巴分词的输出结果为一个生成器\n",
    "    # 把生成器转换为list\n",
    "    cut_list = [ i for i in cut ]\n",
    "    for i, word in enumerate(cut_list):\n",
    "        try:\n",
    "            # 将词转换为索引index\n",
    "            cut_list[i] = cn_model.vocab[word].index\n",
    "        except KeyError:\n",
    "            # 如果词不在字典中，则输出0\n",
    "            cut_list[i] = 0\n",
    "    train_tokens.append(cut_list)"
   ]
  },
  {
   "cell_type": "code",
   "execution_count": null,
   "metadata": {},
   "outputs": [],
   "source": [
    "num_tokens = [len(token) for token in train_tokens]\n",
    "num_tokens = np.array(num_tokens)"
   ]
  },
  {
   "cell_type": "code",
   "execution_count": null,
   "metadata": {},
   "outputs": [],
   "source": [
    "np.mean(num_tokens)"
   ]
  },
  {
   "cell_type": "code",
   "execution_count": null,
   "metadata": {},
   "outputs": [],
   "source": [
    "max_tokens = np.mean(num_tokens) + 2 * np.std(num_tokens)\n",
    "max_tokens = int(max_tokens)\n",
    "max_tokens = 85"
   ]
  },
  {
   "cell_type": "code",
   "execution_count": null,
   "metadata": {},
   "outputs": [],
   "source": [
    "# 取tokens的长度为98时，大约97%的样本被涵盖\n",
    "# 我们对长度不足的进行padding，超长的进行修剪\n",
    "np.sum( num_tokens < max_tokens ) / len(num_tokens)"
   ]
  },
  {
   "cell_type": "code",
   "execution_count": null,
   "metadata": {},
   "outputs": [],
   "source": [
    "# 用来将tokens转换为文本\n",
    "def reverse_tokens(tokens):\n",
    "    text = ''\n",
    "    for i in tokens:\n",
    "        if i != 0:\n",
    "            text = text + cn_model.index2word[i]\n",
    "        else:\n",
    "            text = text + ' '\n",
    "    return text"
   ]
  },
  {
   "cell_type": "code",
   "execution_count": null,
   "metadata": {},
   "outputs": [],
   "source": [
    "reverse_tokens(train_tokens[300])"
   ]
  },
  {
   "cell_type": "code",
   "execution_count": null,
   "metadata": {},
   "outputs": [],
   "source": [
    "# 只使用前20000个词\n",
    "num_words = 100000\n",
    "# 初始化embedding_matrix，之后在keras上进行应用\n",
    "embedding_matrix = np.zeros((num_words, demension))\n",
    "# embedding_matrix为一个 [num_words，embedding_dim] 的矩阵\n",
    "# 维度为 50000 * 300\n",
    "for i in range(num_words):\n",
    "    embedding_matrix[i,:] = cn_model[cn_model.index2word[i]]\n",
    "embedding_matrix = embedding_matrix.astype('float32')"
   ]
  },
  {
   "cell_type": "code",
   "execution_count": null,
   "metadata": {},
   "outputs": [],
   "source": [
    "# 检查index是否对应，\n",
    "# 输出300意义为长度为300的embedding向量一一对应\n",
    "np.sum(cn_model[cn_model.index2word[333]] == embedding_matrix[333] )"
   ]
  },
  {
   "cell_type": "code",
   "execution_count": null,
   "metadata": {},
   "outputs": [],
   "source": [
    "embedding_matrix.shape"
   ]
  },
  {
   "cell_type": "code",
   "execution_count": null,
   "metadata": {},
   "outputs": [],
   "source": [
    "from tensorflow.python.keras.models import Sequential\n",
    "from tensorflow.python.keras.layers import Dense, GRU, Embedding, LSTM, Bidirectional\n",
    "from tensorflow.python.keras.preprocessing.text import Tokenizer\n",
    "from tensorflow.python.keras.preprocessing.sequence import pad_sequences\n",
    "from tensorflow.python.keras.optimizers import RMSprop\n",
    "from tensorflow.keras.optimizers import Adam\n",
    "from tensorflow.python.keras.callbacks import EarlyStopping, ModelCheckpoint, TensorBoard, ReduceLROnPlateau\n",
    "import tensorflow as tf"
   ]
  },
  {
   "cell_type": "code",
   "execution_count": null,
   "metadata": {},
   "outputs": [],
   "source": [
    "# 进行padding和truncating， 输入的train_tokens是一个list\n",
    "# 返回的train_pad是一个numpy array\n",
    "train_pad = pad_sequences(train_tokens, maxlen=max_tokens, padding='pre', truncating='pre')"
   ]
  },
  {
   "cell_type": "code",
   "execution_count": null,
   "metadata": {},
   "outputs": [],
   "source": [
    "# 超出五万个词向量的词用0代替\n",
    "train_pad[ train_pad>=num_words ] = 0"
   ]
  },
  {
   "cell_type": "code",
   "execution_count": null,
   "metadata": {},
   "outputs": [],
   "source": [
    "# 可见padding之后前面的tokens全变成0，文本在最后面\n",
    "train_pad[31]"
   ]
  },
  {
   "cell_type": "code",
   "execution_count": null,
   "metadata": {},
   "outputs": [],
   "source": [
    "train_pad = np.array(train_pad)"
   ]
  },
  {
   "cell_type": "code",
   "execution_count": null,
   "metadata": {},
   "outputs": [],
   "source": [
    "# 进行训练和测试样本的分割\n",
    "from sklearn.model_selection import train_test_split"
   ]
  },
  {
   "cell_type": "code",
   "execution_count": null,
   "metadata": {},
   "outputs": [],
   "source": [
    "# 90%的样本用来训练，剩余10%用来测试\n",
    "X_train, X_test, y_train, y_test = train_test_split(train_pad,\n",
    "                                                    train_tag,\n",
    "                                                    test_size=0.1,\n",
    "                                                    random_state=12)"
   ]
  },
  {
   "cell_type": "code",
   "execution_count": null,
   "metadata": {},
   "outputs": [],
   "source": [
    "y_train = np.array(y_train)\n",
    "y_test = np.array(y_test)"
   ]
  },
  {
   "cell_type": "code",
   "execution_count": null,
   "metadata": {
    "tags": []
   },
   "outputs": [],
   "source": [
    "# 查看训练样本，确认无误\n",
    "print(reverse_tokens(X_train[100]))\n",
    "print('class: ',y_train[100])"
   ]
  },
  {
   "cell_type": "code",
   "execution_count": null,
   "metadata": {},
   "outputs": [],
   "source": [
    "def bina(arr):\n",
    "    for i in range(len(arr)):\n",
    "        if arr[i] <= 3:\n",
    "            arr[i] = 0\n",
    "        elif arr[i] > 3 and arr[i] <= 6:\n",
    "            arr[i] = 1\n",
    "        elif arr[i] > 6: \n",
    "            arr[i] = 2"
   ]
  },
  {
   "cell_type": "code",
   "execution_count": null,
   "metadata": {},
   "outputs": [],
   "source": [
    "bina(y_train)"
   ]
  },
  {
   "cell_type": "code",
   "execution_count": null,
   "metadata": {},
   "outputs": [],
   "source": [
    "bina(y_test)"
   ]
  },
  {
   "cell_type": "code",
   "execution_count": null,
   "metadata": {},
   "outputs": [],
   "source": [
    "y_train = tf.one_hot(y_train, 3)"
   ]
  },
  {
   "cell_type": "code",
   "execution_count": null,
   "metadata": {},
   "outputs": [],
   "source": [
    "y_test = tf.one_hot(y_test, 3)"
   ]
  },
  {
   "cell_type": "code",
   "execution_count": null,
   "metadata": {},
   "outputs": [],
   "source": [
    "y_train"
   ]
  },
  {
   "cell_type": "code",
   "execution_count": null,
   "metadata": {},
   "outputs": [],
   "source": []
  },
  {
   "cell_type": "code",
   "execution_count": null,
   "metadata": {},
   "outputs": [],
   "source": []
  },
  {
   "cell_type": "code",
   "execution_count": null,
   "metadata": {},
   "outputs": [],
   "source": [
    "model = Sequential()\n",
    "model.add(Embedding(num_words,\n",
    "                   demension,\n",
    "                   weights=[embedding_matrix],\n",
    "                   input_length = max_tokens,\n",
    "                   trainable = False))\n",
    "model.add(Bidirectional(LSTM(units=32, return_sequences=True)))\n",
    "model.add(LSTM(units=16, return_sequences=False))\n",
    "#model.add(Dense(16))"
   ]
  },
  {
   "cell_type": "code",
   "execution_count": null,
   "metadata": {},
   "outputs": [],
   "source": [
    "model.add(Dense(3, activation='sigmoid'))\n",
    "#model.add(tf.keras.layers.Softmax())\n",
    "# 我们使用adam以0.001的learning rate进行优化\n",
    "optimizer = Adam(lr=1e-3)"
   ]
  },
  {
   "cell_type": "code",
   "execution_count": null,
   "metadata": {
    "tags": []
   },
   "outputs": [],
   "source": [
    "model.summary()"
   ]
  },
  {
   "cell_type": "code",
   "execution_count": null,
   "metadata": {},
   "outputs": [],
   "source": [
    "model.compile(loss='categorical_crossentropy',\n",
    "              optimizer=optimizer,\n",
    "              metrics=['accuracy'])"
   ]
  },
  {
   "cell_type": "code",
   "execution_count": null,
   "metadata": {},
   "outputs": [],
   "source": [
    "# 建立一个权重的存储点\n",
    "path_checkpoint = '../checkpoints/check.keras'\n",
    "checkpoint = ModelCheckpoint(filepath=path_checkpoint, monitor='val_loss',\n",
    "                                      verbose=1, save_weights_only=True,\n",
    "                                      save_best_only=True)"
   ]
  },
  {
   "cell_type": "code",
   "execution_count": null,
   "metadata": {
    "tags": []
   },
   "outputs": [],
   "source": [
    "# 尝试加载已训练模型\n",
    "try:\n",
    "    model.load_weights(path_checkpoint)\n",
    "except Exception as e:\n",
    "    print(e)"
   ]
  },
  {
   "cell_type": "code",
   "execution_count": null,
   "metadata": {},
   "outputs": [],
   "source": [
    "# 定义early stoping如果5个epoch内validation loss没有改善则停止训练\n",
    "earlystopping = EarlyStopping(monitor='val_loss', patience=5, verbose=1)"
   ]
  },
  {
   "cell_type": "code",
   "execution_count": null,
   "metadata": {},
   "outputs": [],
   "source": [
    "# 自动降低learning rate\n",
    "lr_reduction = ReduceLROnPlateau(monitor='val_loss', factor=0.1, min_lr=1e-8, patience=0, verbose=1)"
   ]
  },
  {
   "cell_type": "code",
   "execution_count": null,
   "metadata": {},
   "outputs": [],
   "source": [
    "# 定义callback函数\n",
    "callbacks = [\n",
    "    earlystopping, \n",
    "    checkpoint,\n",
    "    lr_reduction\n",
    "]"
   ]
  },
  {
   "cell_type": "code",
   "execution_count": 710,
   "metadata": {
    "scrolled": true,
    "tags": []
   },
   "outputs": [
    {
     "name": "stdout",
     "output_type": "stream",
     "text": [
      "Epoch 1/80\n",
      "167/169 [============================>.] - ETA: 0s - loss: 0.8771 - accuracy: 0.5402\n",
      "Epoch 00001: val_loss did not improve from 0.80449\n",
      "169/169 [==============================] - 4s 23ms/step - loss: 0.8766 - accuracy: 0.5409 - val_loss: 0.8418 - val_accuracy: 0.5704 - lr: 0.0010\n",
      "Epoch 2/80\n",
      "169/169 [==============================] - ETA: 0s - loss: 0.8226 - accuracy: 0.5889\n",
      "Epoch 00002: val_loss did not improve from 0.80449\n",
      "169/169 [==============================] - 3s 17ms/step - loss: 0.8226 - accuracy: 0.5889 - val_loss: 0.8246 - val_accuracy: 0.5806 - lr: 0.0010\n",
      "Epoch 3/80\n",
      "169/169 [==============================] - ETA: 0s - loss: 0.8054 - accuracy: 0.5991\n",
      "Epoch 00003: val_loss did not improve from 0.80449\n",
      "169/169 [==============================] - 3s 17ms/step - loss: 0.8054 - accuracy: 0.5991 - val_loss: 0.8132 - val_accuracy: 0.5918 - lr: 0.0010\n",
      "Epoch 4/80\n",
      "169/169 [==============================] - ETA: 0s - loss: 0.7957 - accuracy: 0.6037\n",
      "Epoch 00004: val_loss did not improve from 0.80449\n",
      "\n",
      "Epoch 00004: ReduceLROnPlateau reducing learning rate to 0.00010000000474974513.\n",
      "169/169 [==============================] - 3s 17ms/step - loss: 0.7957 - accuracy: 0.6037 - val_loss: 0.8223 - val_accuracy: 0.5847 - lr: 0.0010\n",
      "Epoch 5/80\n",
      "169/169 [==============================] - ETA: 0s - loss: 0.7840 - accuracy: 0.6094\n",
      "Epoch 00005: val_loss did not improve from 0.80449\n",
      "169/169 [==============================] - 3s 17ms/step - loss: 0.7840 - accuracy: 0.6094 - val_loss: 0.8072 - val_accuracy: 0.5962 - lr: 1.0000e-04\n",
      "Epoch 6/80\n",
      "169/169 [==============================] - ETA: 0s - loss: 0.7807 - accuracy: 0.6111\n",
      "Epoch 00006: val_loss did not improve from 0.80449\n",
      "169/169 [==============================] - 3s 17ms/step - loss: 0.7807 - accuracy: 0.6111 - val_loss: 0.8055 - val_accuracy: 0.5964 - lr: 1.0000e-04\n",
      "Epoch 7/80\n",
      "169/169 [==============================] - ETA: 0s - loss: 0.7794 - accuracy: 0.6129\n",
      "Epoch 00007: val_loss improved from 0.80449 to 0.80418, saving model to ../checkpoints/check.keras\n",
      "169/169 [==============================] - 3s 20ms/step - loss: 0.7794 - accuracy: 0.6129 - val_loss: 0.8042 - val_accuracy: 0.5935 - lr: 1.0000e-04\n",
      "Epoch 8/80\n",
      "169/169 [==============================] - ETA: 0s - loss: 0.7776 - accuracy: 0.6145\n",
      "Epoch 00008: val_loss improved from 0.80418 to 0.80367, saving model to ../checkpoints/check.keras\n",
      "169/169 [==============================] - 4s 21ms/step - loss: 0.7776 - accuracy: 0.6145 - val_loss: 0.8037 - val_accuracy: 0.5978 - lr: 1.0000e-04\n",
      "Epoch 9/80\n",
      "168/169 [============================>.] - ETA: 0s - loss: 0.7763 - accuracy: 0.6147\n",
      "Epoch 00009: val_loss did not improve from 0.80367\n",
      "\n",
      "Epoch 00009: ReduceLROnPlateau reducing learning rate to 1.0000000474974514e-05.\n",
      "169/169 [==============================] - 3s 17ms/step - loss: 0.7764 - accuracy: 0.6147 - val_loss: 0.8048 - val_accuracy: 0.5991 - lr: 1.0000e-04\n",
      "Epoch 10/80\n",
      "169/169 [==============================] - ETA: 0s - loss: 0.7744 - accuracy: 0.6149\n",
      "Epoch 00010: val_loss did not improve from 0.80367\n",
      "\n",
      "Epoch 00010: ReduceLROnPlateau reducing learning rate to 1.0000000656873453e-06.\n",
      "169/169 [==============================] - 3s 17ms/step - loss: 0.7744 - accuracy: 0.6149 - val_loss: 0.8041 - val_accuracy: 0.6005 - lr: 1.0000e-05\n",
      "Epoch 11/80\n",
      "169/169 [==============================] - ETA: 0s - loss: 0.7742 - accuracy: 0.6152\n",
      "Epoch 00011: val_loss did not improve from 0.80367\n",
      "\n",
      "Epoch 00011: ReduceLROnPlateau reducing learning rate to 1.0000001111620805e-07.\n",
      "169/169 [==============================] - 3s 17ms/step - loss: 0.7742 - accuracy: 0.6152 - val_loss: 0.8037 - val_accuracy: 0.6003 - lr: 1.0000e-06\n",
      "Epoch 12/80\n",
      "168/169 [============================>.] - ETA: 0s - loss: 0.7744 - accuracy: 0.6151\n",
      "Epoch 00012: val_loss did not improve from 0.80367\n",
      "\n",
      "Epoch 00012: ReduceLROnPlateau reducing learning rate to 1.000000082740371e-08.\n",
      "169/169 [==============================] - 3s 17ms/step - loss: 0.7741 - accuracy: 0.6152 - val_loss: 0.8037 - val_accuracy: 0.6001 - lr: 1.0000e-07\n",
      "Epoch 13/80\n",
      "169/169 [==============================] - ETA: 0s - loss: 0.7741 - accuracy: 0.6152\n",
      "Epoch 00013: val_loss did not improve from 0.80367\n",
      "\n",
      "Epoch 00013: ReduceLROnPlateau reducing learning rate to 1e-08.\n",
      "169/169 [==============================] - 3s 17ms/step - loss: 0.7741 - accuracy: 0.6152 - val_loss: 0.8037 - val_accuracy: 0.6001 - lr: 1.0000e-08\n",
      "Epoch 00013: early stopping\n"
     ]
    }
   ],
   "source": [
    "history = model.fit(X_train, y_train,\n",
    "          validation_split=0.1, \n",
    "          epochs=80,\n",
    "          batch_size=256,\n",
    "          callbacks=callbacks)"
   ]
  },
  {
   "cell_type": "code",
   "execution_count": 585,
   "metadata": {},
   "outputs": [
    {
     "data": {
      "image/png": "[encoded data removed]",
      "text/plain": [
       "<Figure size 864x648 with 1 Axes>"
      ]
     },
     "metadata": {
      "needs_background": "light"
     },
     "output_type": "display_data"
    },
    {
     "data": {
      "image/png": "[encoded data removed]",
      "text/plain": [
       "<Figure size 864x648 with 1 Axes>"
      ]
     },
     "metadata": {
      "needs_background": "light"
     },
     "output_type": "display_data"
    }
   ],
   "source": [
    "import matplotlib.pyplot as plt\n",
    "\n",
    "history_dict = history.history\n",
    "\n",
    "acc = history_dict['accuracy']\n",
    "val_acc = history_dict['val_accuracy']\n",
    "loss=history_dict['loss']\n",
    "val_loss=history_dict['val_loss']\n",
    "\n",
    "epochs = range(1, len(acc) + 1)\n",
    "\n",
    "plt.figure(figsize=(12,9))\n",
    "plt.plot(epochs, loss, 'bo', label='Training loss')\n",
    "plt.plot(epochs, val_loss, 'b', label='Validation loss')\n",
    "plt.title('Training and validation loss')\n",
    "plt.xlabel('Epochs')\n",
    "plt.ylabel('Loss')\n",
    "plt.legend()\n",
    "plt.show()\n",
    "\n",
    "plt.figure(figsize=(12,9))\n",
    "plt.plot(epochs, acc, 'bo', label='Training acc')\n",
    "plt.plot(epochs, val_acc, 'b', label='Validation acc')\n",
    "plt.title('Training and validation accuracy')\n",
    "plt.xlabel('Epochs')\n",
    "plt.ylabel('Accuracy')\n",
    "plt.legend(loc='lower right')\n",
    "plt.ylim((0.5,1))\n",
    "plt.show()"
   ]
  },
  {
   "cell_type": "code",
   "execution_count": null,
   "metadata": {},
   "outputs": [],
   "source": [
    "model2 = Sequential([\n",
    "    keras.layers.Embedding(num_words,\n",
    "                   demension,\n",
    "                   weights=[embedding_matrix],\n",
    "                   input_length = max_tokens,\n",
    "                   trainable = False),\n",
    "    # return_sequences是指取得的是最后一步输出还是前面的输出，False表示最后一步输出\n",
    "    keras.layers.SimpleRNN(units=64, return_sequences=False),\n",
    "    keras.layers.Dense(64, activation='relu'),\n",
    "    keras.layers.Dense(1, activation='sigmoid'),\n",
    "])\n",
    "\n",
    "model.summary()\n",
    "model.compile(optimizer='adam',\n",
    "              loss='categorical_crossentropy',\n",
    "              metrics=['accuracy'])\n",
    "\n"
   ]
  },
  {
   "cell_type": "code",
   "execution_count": null,
   "metadata": {},
   "outputs": [],
   "source": []
  },
  {
   "cell_type": "code",
   "execution_count": null,
   "metadata": {},
   "outputs": [],
   "source": []
  },
  {
   "cell_type": "code",
   "execution_count": null,
   "metadata": {},
   "outputs": [],
   "source": []
  }
 ],
 "metadata": {
  "kernelspec": {
   "display_name": "Python 3",
   "language": "python",
   "name": "python3"
  },
  "language_info": {
   "codemirror_mode": {
    "name": "ipython",
    "version": 3
   },
   "file_extension": ".py",
   "mimetype": "text/x-python",
   "name": "python",
   "nbconvert_exporter": "python",
   "pygments_lexer": "ipython3",
   "version": "3.7.6"
  }
 },
 "nbformat": 4,
 "nbformat_minor": 2
}
