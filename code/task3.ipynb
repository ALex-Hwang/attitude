{
 "cells": [
  {
   "cell_type": "code",
   "execution_count": 126,
   "metadata": {},
   "outputs": [],
   "source": [
    "import pandas as pd\n",
    "import numpy as np\n",
    "import re\n",
    "import os\n",
    "import json"
   ]
  },
  {
   "cell_type": "code",
   "execution_count": 127,
   "metadata": {},
   "outputs": [],
   "source": [
    "# strip the alphabets\n",
    "def strip(data):\n",
    "    pattern = re.compile('[^0-9]', re.UNICODE)\n",
    "    return re.sub(pattern, \"\", str(data))"
   ]
  },
  {
   "cell_type": "code",
   "execution_count": 128,
   "metadata": {},
   "outputs": [],
   "source": [
    "filePath = '/Users/helix/Coding/attitude/data/'"
   ]
  },
  {
   "cell_type": "code",
   "execution_count": 129,
   "metadata": {},
   "outputs": [],
   "source": [
    "data = pd.read_excel(filePath+'all_people.xlsx')\n",
    "data = data[['id', '政治态度得分']]\n",
    "data.columns = ['id', 'score']\n",
    "data.dropna()\n",
    "data.id = data.id.apply(strip)"
   ]
  },
  {
   "cell_type": "code",
   "execution_count": 130,
   "metadata": {},
   "outputs": [
    {
     "output_type": "execute_result",
     "data": {
      "text/plain": "            id  score\n0    201922301   4.14\n1  20191721032   3.36\n2    201906005   3.47\n3    201906004   3.54\n4    201823164   3.80",
      "text/html": "<div>\n<style scoped>\n    .dataframe tbody tr th:only-of-type {\n        vertical-align: middle;\n    }\n\n    .dataframe tbody tr th {\n        vertical-align: top;\n    }\n\n    .dataframe thead th {\n        text-align: right;\n    }\n</style>\n<table border=\"1\" class=\"dataframe\">\n  <thead>\n    <tr style=\"text-align: right;\">\n      <th></th>\n      <th>id</th>\n      <th>score</th>\n    </tr>\n  </thead>\n  <tbody>\n    <tr>\n      <th>0</th>\n      <td>201922301</td>\n      <td>4.14</td>\n    </tr>\n    <tr>\n      <th>1</th>\n      <td>20191721032</td>\n      <td>3.36</td>\n    </tr>\n    <tr>\n      <th>2</th>\n      <td>201906005</td>\n      <td>3.47</td>\n    </tr>\n    <tr>\n      <th>3</th>\n      <td>201906004</td>\n      <td>3.54</td>\n    </tr>\n    <tr>\n      <th>4</th>\n      <td>201823164</td>\n      <td>3.80</td>\n    </tr>\n  </tbody>\n</table>\n</div>"
     },
     "metadata": {},
     "execution_count": 130
    }
   ],
   "source": [
    "data.head()"
   ]
  },
  {
   "cell_type": "code",
   "execution_count": 131,
   "metadata": {
    "tags": []
   },
   "outputs": [],
   "source": [
    "filePath = '/Users/helix/Coding/attitude/data/all_json/'\n",
    "fileNames = os.listdir(filePath)\n",
    "json_file = []\n",
    "for fileName in fileNames:\n",
    "    File = open(filePath+fileName)\n",
    "    test = json.load(File)\n",
    "    #print(fileName)\n",
    "    test = np.array(test['vectors'])\n",
    "    json_file.append([strip(fileName), test])\n",
    "    File.close()"
   ]
  },
  {
   "cell_type": "code",
   "execution_count": 132,
   "metadata": {},
   "outputs": [],
   "source": [
    "json_file = pd.DataFrame(json_file, columns=['id', 'vector'])"
   ]
  },
  {
   "cell_type": "code",
   "execution_count": 133,
   "metadata": {},
   "outputs": [
    {
     "output_type": "execute_result",
     "data": {
      "text/plain": "             id                                             vector\n0    1901140015  [[-1.579109286842105, 2.9206601189473687, -0.1...\n1    1901362601  [[-1.7639175999999999, -3.2602275249999995, 2....\n2      18110336  [[-4.3450105425, 0.24810093499999986, 4.423870...\n3  190901191133  [[-5.1014285, 2.597416484444445, 5.91408673333...\n4      19041230  [[-3.6661185405555554, 0.782676534861111, 2.68...",
      "text/html": "<div>\n<style scoped>\n    .dataframe tbody tr th:only-of-type {\n        vertical-align: middle;\n    }\n\n    .dataframe tbody tr th {\n        vertical-align: top;\n    }\n\n    .dataframe thead th {\n        text-align: right;\n    }\n</style>\n<table border=\"1\" class=\"dataframe\">\n  <thead>\n    <tr style=\"text-align: right;\">\n      <th></th>\n      <th>id</th>\n      <th>vector</th>\n    </tr>\n  </thead>\n  <tbody>\n    <tr>\n      <th>0</th>\n      <td>1901140015</td>\n      <td>[[-1.579109286842105, 2.9206601189473687, -0.1...</td>\n    </tr>\n    <tr>\n      <th>1</th>\n      <td>1901362601</td>\n      <td>[[-1.7639175999999999, -3.2602275249999995, 2....</td>\n    </tr>\n    <tr>\n      <th>2</th>\n      <td>18110336</td>\n      <td>[[-4.3450105425, 0.24810093499999986, 4.423870...</td>\n    </tr>\n    <tr>\n      <th>3</th>\n      <td>190901191133</td>\n      <td>[[-5.1014285, 2.597416484444445, 5.91408673333...</td>\n    </tr>\n    <tr>\n      <th>4</th>\n      <td>19041230</td>\n      <td>[[-3.6661185405555554, 0.782676534861111, 2.68...</td>\n    </tr>\n  </tbody>\n</table>\n</div>"
     },
     "metadata": {},
     "execution_count": 133
    }
   ],
   "source": [
    "json_file.head()"
   ]
  },
  {
   "cell_type": "code",
   "execution_count": 134,
   "metadata": {},
   "outputs": [
    {
     "output_type": "execute_result",
     "data": {
      "text/plain": "            id  score\n0    201922301   4.14\n1  20191721032   3.36\n2    201906005   3.47\n3    201906004   3.54\n4    201823164   3.80",
      "text/html": "<div>\n<style scoped>\n    .dataframe tbody tr th:only-of-type {\n        vertical-align: middle;\n    }\n\n    .dataframe tbody tr th {\n        vertical-align: top;\n    }\n\n    .dataframe thead th {\n        text-align: right;\n    }\n</style>\n<table border=\"1\" class=\"dataframe\">\n  <thead>\n    <tr style=\"text-align: right;\">\n      <th></th>\n      <th>id</th>\n      <th>score</th>\n    </tr>\n  </thead>\n  <tbody>\n    <tr>\n      <th>0</th>\n      <td>201922301</td>\n      <td>4.14</td>\n    </tr>\n    <tr>\n      <th>1</th>\n      <td>20191721032</td>\n      <td>3.36</td>\n    </tr>\n    <tr>\n      <th>2</th>\n      <td>201906005</td>\n      <td>3.47</td>\n    </tr>\n    <tr>\n      <th>3</th>\n      <td>201906004</td>\n      <td>3.54</td>\n    </tr>\n    <tr>\n      <th>4</th>\n      <td>201823164</td>\n      <td>3.80</td>\n    </tr>\n  </tbody>\n</table>\n</div>"
     },
     "metadata": {},
     "execution_count": 134
    }
   ],
   "source": [
    "data.head()"
   ]
  },
  {
   "cell_type": "code",
   "execution_count": 135,
   "metadata": {},
   "outputs": [],
   "source": [
    "data = pd.merge(data, json_file)"
   ]
  },
  {
   "cell_type": "code",
   "execution_count": 136,
   "metadata": {},
   "outputs": [],
   "source": [
    "data = data.dropna()"
   ]
  },
  {
   "cell_type": "code",
   "execution_count": 137,
   "metadata": {},
   "outputs": [
    {
     "output_type": "execute_result",
     "data": {
      "text/plain": "            id  score                                             vector\n0    201922301   4.14  [[-4.648576633333334, -0.1527824666666667, 5.5...\n1  20191721032   3.36  [[-2.462165133333333, -1.2517511333333333, 6.6...\n2    201906004   3.54  [[-3.7282987317142857, 1.0043741571428575, 5.0...\n3    201822048   3.98  [[-2.4070685, 1.4974684000000003, 0.9653421999...\n4    201822042   3.51  [[-5.945544979999999, 2.07371892, 5.2692115799...",
      "text/html": "<div>\n<style scoped>\n    .dataframe tbody tr th:only-of-type {\n        vertical-align: middle;\n    }\n\n    .dataframe tbody tr th {\n        vertical-align: top;\n    }\n\n    .dataframe thead th {\n        text-align: right;\n    }\n</style>\n<table border=\"1\" class=\"dataframe\">\n  <thead>\n    <tr style=\"text-align: right;\">\n      <th></th>\n      <th>id</th>\n      <th>score</th>\n      <th>vector</th>\n    </tr>\n  </thead>\n  <tbody>\n    <tr>\n      <th>0</th>\n      <td>201922301</td>\n      <td>4.14</td>\n      <td>[[-4.648576633333334, -0.1527824666666667, 5.5...</td>\n    </tr>\n    <tr>\n      <th>1</th>\n      <td>20191721032</td>\n      <td>3.36</td>\n      <td>[[-2.462165133333333, -1.2517511333333333, 6.6...</td>\n    </tr>\n    <tr>\n      <th>2</th>\n      <td>201906004</td>\n      <td>3.54</td>\n      <td>[[-3.7282987317142857, 1.0043741571428575, 5.0...</td>\n    </tr>\n    <tr>\n      <th>3</th>\n      <td>201822048</td>\n      <td>3.98</td>\n      <td>[[-2.4070685, 1.4974684000000003, 0.9653421999...</td>\n    </tr>\n    <tr>\n      <th>4</th>\n      <td>201822042</td>\n      <td>3.51</td>\n      <td>[[-5.945544979999999, 2.07371892, 5.2692115799...</td>\n    </tr>\n  </tbody>\n</table>\n</div>"
     },
     "metadata": {},
     "execution_count": 137
    }
   ],
   "source": [
    "data.head()"
   ]
  },
  {
   "cell_type": "code",
   "execution_count": 138,
   "metadata": {},
   "outputs": [
    {
     "output_type": "execute_result",
     "data": {
      "text/plain": "(3423, 3)"
     },
     "metadata": {},
     "execution_count": 138
    }
   ],
   "source": [
    "data.shape"
   ]
  },
  {
   "cell_type": "code",
   "execution_count": 139,
   "metadata": {},
   "outputs": [],
   "source": [
    "def truncate(content):\n",
    "    return content[0]"
   ]
  },
  {
   "cell_type": "code",
   "execution_count": 151,
   "metadata": {},
   "outputs": [],
   "source": [
    "data['vector_100'] = data.vector.apply(truncate)"
   ]
  },
  {
   "cell_type": "code",
   "execution_count": 152,
   "metadata": {},
   "outputs": [
    {
     "output_type": "execute_result",
     "data": {
      "text/plain": "            id  score                                             vector  \\\n0    201922301   4.14  [[-4.648576633333334, -0.1527824666666667, 5.5...   \n1  20191721032   3.36  [[-2.462165133333333, -1.2517511333333333, 6.6...   \n2    201906004   3.54  [[-3.7282987317142857, 1.0043741571428575, 5.0...   \n3    201822048   3.98  [[-2.4070685, 1.4974684000000003, 0.9653421999...   \n4    201822042   3.51  [[-5.945544979999999, 2.07371892, 5.2692115799...   \n\n                                          vector_100  \n0  [-4.648576633333334, -0.1527824666666667, 5.57...  \n1  [-2.462165133333333, -1.2517511333333333, 6.63...  \n2  [-3.7282987317142857, 1.0043741571428575, 5.03...  \n3  [-2.4070685, 1.4974684000000003, 0.96534219999...  \n4  [-5.945544979999999, 2.07371892, 5.26921157999...  ",
      "text/html": "<div>\n<style scoped>\n    .dataframe tbody tr th:only-of-type {\n        vertical-align: middle;\n    }\n\n    .dataframe tbody tr th {\n        vertical-align: top;\n    }\n\n    .dataframe thead th {\n        text-align: right;\n    }\n</style>\n<table border=\"1\" class=\"dataframe\">\n  <thead>\n    <tr style=\"text-align: right;\">\n      <th></th>\n      <th>id</th>\n      <th>score</th>\n      <th>vector</th>\n      <th>vector_100</th>\n    </tr>\n  </thead>\n  <tbody>\n    <tr>\n      <th>0</th>\n      <td>201922301</td>\n      <td>4.14</td>\n      <td>[[-4.648576633333334, -0.1527824666666667, 5.5...</td>\n      <td>[-4.648576633333334, -0.1527824666666667, 5.57...</td>\n    </tr>\n    <tr>\n      <th>1</th>\n      <td>20191721032</td>\n      <td>3.36</td>\n      <td>[[-2.462165133333333, -1.2517511333333333, 6.6...</td>\n      <td>[-2.462165133333333, -1.2517511333333333, 6.63...</td>\n    </tr>\n    <tr>\n      <th>2</th>\n      <td>201906004</td>\n      <td>3.54</td>\n      <td>[[-3.7282987317142857, 1.0043741571428575, 5.0...</td>\n      <td>[-3.7282987317142857, 1.0043741571428575, 5.03...</td>\n    </tr>\n    <tr>\n      <th>3</th>\n      <td>201822048</td>\n      <td>3.98</td>\n      <td>[[-2.4070685, 1.4974684000000003, 0.9653421999...</td>\n      <td>[-2.4070685, 1.4974684000000003, 0.96534219999...</td>\n    </tr>\n    <tr>\n      <th>4</th>\n      <td>201822042</td>\n      <td>3.51</td>\n      <td>[[-5.945544979999999, 2.07371892, 5.2692115799...</td>\n      <td>[-5.945544979999999, 2.07371892, 5.26921157999...</td>\n    </tr>\n  </tbody>\n</table>\n</div>"
     },
     "metadata": {},
     "execution_count": 152
    }
   ],
   "source": [
    "data.head()"
   ]
  },
  {
   "cell_type": "code",
   "execution_count": 153,
   "metadata": {},
   "outputs": [],
   "source": [
    "data.score = data.score.astype(np.float32)"
   ]
  },
  {
   "cell_type": "code",
   "execution_count": 154,
   "metadata": {},
   "outputs": [],
   "source": [
    "target = data.score.to_list()"
   ]
  },
  {
   "cell_type": "code",
   "execution_count": 155,
   "metadata": {},
   "outputs": [],
   "source": [
    "target =  np.array(target)\n",
    "target = target.astype(np.float32)"
   ]
  },
  {
   "cell_type": "code",
   "execution_count": 156,
   "metadata": {},
   "outputs": [],
   "source": [
    "vector_100 = data.vector_100.to_list()"
   ]
  },
  {
   "cell_type": "code",
   "execution_count": 157,
   "metadata": {},
   "outputs": [],
   "source": [
    "vector_100 = np.array(vector_100)"
   ]
  },
  {
   "cell_type": "code",
   "execution_count": null,
   "metadata": {},
   "outputs": [],
   "source": []
  },
  {
   "cell_type": "code",
   "execution_count": null,
   "metadata": {},
   "outputs": [],
   "source": []
  },
  {
   "cell_type": "code",
   "execution_count": null,
   "metadata": {},
   "outputs": [],
   "source": []
  },
  {
   "cell_type": "code",
   "execution_count": 158,
   "metadata": {},
   "outputs": [],
   "source": [
    "from tensorflow.python.keras.models import Sequential\n",
    "import tensorflow as tf\n",
    "from tensorflow import keras\n",
    "from tensorflow import initializers as init"
   ]
  },
  {
   "cell_type": "code",
   "execution_count": 159,
   "metadata": {},
   "outputs": [],
   "source": [
    "model = Sequential()\n",
    "model.add(keras.layers.Dense(4, input_shape=(100,), activation='sigmoid'))\n",
    "model.add(keras.layers.Dense(1))"
   ]
  },
  {
   "cell_type": "code",
   "execution_count": 160,
   "metadata": {},
   "outputs": [],
   "source": [
    "model.compile(loss = 'mse',\n",
    "             optimizer='adam')  "
   ]
  },
  {
   "cell_type": "code",
   "execution_count": 161,
   "metadata": {
    "tags": []
   },
   "outputs": [
    {
     "output_type": "stream",
     "name": "stdout",
     "text": "Epoch 1/30\n97/97 [==============================] - 0s 2ms/step - loss: 13.9708 - val_loss: 10.1830\nEpoch 2/30\n97/97 [==============================] - 0s 3ms/step - loss: 9.8577 - val_loss: 7.4920\nEpoch 3/30\n97/97 [==============================] - 0s 2ms/step - loss: 7.4459 - val_loss: 5.3466\nEpoch 4/30\n97/97 [==============================] - 0s 3ms/step - loss: 5.1433 - val_loss: 3.4398\nEpoch 5/30\n97/97 [==============================] - 0s 2ms/step - loss: 3.4756 - val_loss: 2.2319\nEpoch 6/30\n97/97 [==============================] - 0s 3ms/step - loss: 2.3762 - val_loss: 1.4341\nEpoch 7/30\n97/97 [==============================] - 0s 2ms/step - loss: 1.6233 - val_loss: 0.9072\nEpoch 8/30\n97/97 [==============================] - 0s 2ms/step - loss: 1.1057 - val_loss: 0.5640\nEpoch 9/30\n97/97 [==============================] - 0s 3ms/step - loss: 0.7557 - val_loss: 0.3520\nEpoch 10/30\n97/97 [==============================] - 0s 3ms/step - loss: 0.5250 - val_loss: 0.2275\nEpoch 11/30\n97/97 [==============================] - 0s 3ms/step - loss: 0.3780 - val_loss: 0.1622\nEpoch 12/30\n97/97 [==============================] - 0s 2ms/step - loss: 0.2870 - val_loss: 0.1325\nEpoch 13/30\n97/97 [==============================] - 1s 7ms/step - loss: 0.2330 - val_loss: 0.1242\nEpoch 14/30\n97/97 [==============================] - 0s 2ms/step - loss: 0.2024 - val_loss: 0.1264\nEpoch 15/30\n97/97 [==============================] - 0s 2ms/step - loss: 0.1854 - val_loss: 0.1330\nEpoch 16/30\n97/97 [==============================] - 0s 3ms/step - loss: 0.1767 - val_loss: 0.1407\nEpoch 17/30\n97/97 [==============================] - 0s 2ms/step - loss: 0.1723 - val_loss: 0.1476\nEpoch 18/30\n97/97 [==============================] - 0s 2ms/step - loss: 0.1701 - val_loss: 0.1531\nEpoch 19/30\n97/97 [==============================] - 0s 3ms/step - loss: 0.1690 - val_loss: 0.1574\nEpoch 20/30\n97/97 [==============================] - 0s 3ms/step - loss: 0.1685 - val_loss: 0.1600\nEpoch 21/30\n97/97 [==============================] - 0s 3ms/step - loss: 0.1681 - val_loss: 0.1621\nEpoch 22/30\n97/97 [==============================] - 0s 2ms/step - loss: 0.1679 - val_loss: 0.1634\nEpoch 23/30\n97/97 [==============================] - 0s 2ms/step - loss: 0.1678 - val_loss: 0.1636\nEpoch 24/30\n97/97 [==============================] - 0s 2ms/step - loss: 0.1675 - val_loss: 0.1648\nEpoch 25/30\n97/97 [==============================] - 0s 2ms/step - loss: 0.1674 - val_loss: 0.1652\nEpoch 26/30\n97/97 [==============================] - 0s 2ms/step - loss: 0.1672 - val_loss: 0.1647\nEpoch 27/30\n97/97 [==============================] - 0s 3ms/step - loss: 0.1671 - val_loss: 0.1650\nEpoch 28/30\n97/97 [==============================] - 0s 3ms/step - loss: 0.1669 - val_loss: 0.1645\nEpoch 29/30\n97/97 [==============================] - 0s 3ms/step - loss: 0.1667 - val_loss: 0.1649\nEpoch 30/30\n97/97 [==============================] - 0s 2ms/step - loss: 0.1666 - val_loss: 0.1646\n"
    },
    {
     "output_type": "execute_result",
     "data": {
      "text/plain": "<tensorflow.python.keras.callbacks.History at 0x13aeaaf50>"
     },
     "metadata": {},
     "execution_count": 161
    }
   ],
   "source": [
    "model.fit(vector_100/10, target, epochs=30, validation_split=0.1)"
   ]
  },
  {
   "cell_type": "code",
   "execution_count": 169,
   "metadata": {
    "tags": []
   },
   "outputs": [],
   "source": [
    "num_sen = []\n",
    "for i in data.vector:\n",
    "    num_sen.append(i.shape[0])"
   ]
  },
  {
   "cell_type": "code",
   "execution_count": 174,
   "metadata": {},
   "outputs": [],
   "source": [
    "num_sen = np.array(num_sen)"
   ]
  },
  {
   "cell_type": "code",
   "execution_count": 176,
   "metadata": {},
   "outputs": [
    {
     "output_type": "execute_result",
     "data": {
      "text/plain": "70.13701431492842"
     },
     "metadata": {},
     "execution_count": 176
    }
   ],
   "source": [
    "np.mean(num_sen)"
   ]
  },
  {
   "cell_type": "code",
   "execution_count": 178,
   "metadata": {},
   "outputs": [
    {
     "output_type": "execute_result",
     "data": {
      "text/plain": "168"
     },
     "metadata": {},
     "execution_count": 178
    }
   ],
   "source": [
    "max_sen = np.mean(num_sen) + 2 * np.std(num_sen)\n",
    "max_sen = int(max_sen)\n",
    "max_sen"
   ]
  },
  {
   "cell_type": "code",
   "execution_count": 179,
   "metadata": {},
   "outputs": [
    {
     "output_type": "execute_result",
     "data": {
      "text/plain": "0.9932807478819748"
     },
     "metadata": {},
     "execution_count": 179
    }
   ],
   "source": [
    "np.sum(num_sen < max_sen) / len(num_sen)"
   ]
  },
  {
   "cell_type": "code",
   "execution_count": null,
   "metadata": {},
   "outputs": [],
   "source": []
  }
 ],
 "metadata": {
  "kernelspec": {
   "display_name": "Python 3",
   "language": "python",
   "name": "python3"
  },
  "language_info": {
   "codemirror_mode": {
    "name": "ipython",
    "version": 3
   },
   "file_extension": ".py",
   "mimetype": "text/x-python",
   "name": "python",
   "nbconvert_exporter": "python",
   "pygments_lexer": "ipython3",
   "version": "3.7.7-final"
  }
 },
 "nbformat": 4,
 "nbformat_minor": 2
}