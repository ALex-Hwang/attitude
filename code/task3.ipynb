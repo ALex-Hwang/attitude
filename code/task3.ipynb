{
 "cells": [
  {
   "cell_type": "code",
   "execution_count": 126,
   "metadata": {},
   "outputs": [],
   "source": [
    "import pandas as pd\n",
    "import numpy as np\n",
    "import re\n",
    "import os\n",
    "import json"
   ]
  },
  {
   "cell_type": "code",
   "execution_count": 127,
   "metadata": {},
   "outputs": [],
   "source": [
    "# strip the alphabets\n",
    "def strip(data):\n",
    "    pattern = re.compile('[^0-9]', re.UNICODE)\n",
    "    return re.sub(pattern, \"\", str(data))"
   ]
  },
  {
   "cell_type": "code",
   "execution_count": 128,
   "metadata": {},
   "outputs": [],
   "source": [
    "filePath = '/Users/helix/Coding/attitude/data/'"
   ]
  },
  {
   "cell_type": "code",
   "execution_count": 129,
   "metadata": {},
   "outputs": [],
   "source": [
    "data = pd.read_excel(filePath+'all_people.xlsx')\n",
    "data = data[['id', '政治态度得分']]\n",
    "data.columns = ['id', 'score']\n",
    "data.dropna()\n",
    "data.id = data.id.apply(strip)"
   ]
  },
  {
   "cell_type": "code",
   "execution_count": 130,
   "metadata": {},
   "outputs": [
    {
     "output_type": "execute_result",
     "data": {
      "text/plain": "            id  score\n0    201922301   4.14\n1  20191721032   3.36\n2    201906005   3.47\n3    201906004   3.54\n4    201823164   3.80",
      "text/html": "<div>\n<style scoped>\n    .dataframe tbody tr th:only-of-type {\n        vertical-align: middle;\n    }\n\n    .dataframe tbody tr th {\n        vertical-align: top;\n    }\n\n    .dataframe thead th {\n        text-align: right;\n    }\n</style>\n<table border=\"1\" class=\"dataframe\">\n  <thead>\n    <tr style=\"text-align: right;\">\n      <th></th>\n      <th>id</th>\n      <th>score</th>\n    </tr>\n  </thead>\n  <tbody>\n    <tr>\n      <th>0</th>\n      <td>201922301</td>\n      <td>4.14</td>\n    </tr>\n    <tr>\n      <th>1</th>\n      <td>20191721032</td>\n      <td>3.36</td>\n    </tr>\n    <tr>\n      <th>2</th>\n      <td>201906005</td>\n      <td>3.47</td>\n    </tr>\n    <tr>\n      <th>3</th>\n      <td>201906004</td>\n      <td>3.54</td>\n    </tr>\n    <tr>\n      <th>4</th>\n      <td>201823164</td>\n      <td>3.80</td>\n    </tr>\n  </tbody>\n</table>\n</div>"
     },
     "metadata": {},
     "execution_count": 130
    }
   ],
   "source": [
    "data.head()"
   ]
  },
  {
   "cell_type": "code",
   "execution_count": 131,
   "metadata": {
    "tags": []
   },
   "outputs": [],
   "source": [
    "filePath = '/Users/helix/Coding/attitude/data/all_json/'\n",
    "fileNames = os.listdir(filePath)\n",
    "json_file = []\n",
    "for fileName in fileNames:\n",
    "    File = open(filePath+fileName)\n",
    "    test = json.load(File)\n",
    "    #print(fileName)\n",
    "    test = np.array(test['vectors'])\n",
    "    json_file.append([strip(fileName), test])\n",
    "    File.close()"
   ]
  },
  {
   "cell_type": "code",
   "execution_count": 132,
   "metadata": {},
   "outputs": [],
   "source": [
    "json_file = pd.DataFrame(json_file, columns=['id', 'vector'])"
   ]
  },
  {
   "cell_type": "code",
   "execution_count": 133,
   "metadata": {},
   "outputs": [
    {
     "output_type": "execute_result",
     "data": {
      "text/plain": "             id                                             vector\n0    1901140015  [[-1.579109286842105, 2.9206601189473687, -0.1...\n1    1901362601  [[-1.7639175999999999, -3.2602275249999995, 2....\n2      18110336  [[-4.3450105425, 0.24810093499999986, 4.423870...\n3  190901191133  [[-5.1014285, 2.597416484444445, 5.91408673333...\n4      19041230  [[-3.6661185405555554, 0.782676534861111, 2.68...",
      "text/html": "<div>\n<style scoped>\n    .dataframe tbody tr th:only-of-type {\n        vertical-align: middle;\n    }\n\n    .dataframe tbody tr th {\n        vertical-align: top;\n    }\n\n    .dataframe thead th {\n        text-align: right;\n    }\n</style>\n<table border=\"1\" class=\"dataframe\">\n  <thead>\n    <tr style=\"text-align: right;\">\n      <th></th>\n      <th>id</th>\n      <th>vector</th>\n    </tr>\n  </thead>\n  <tbody>\n    <tr>\n      <th>0</th>\n      <td>1901140015</td>\n      <td>[[-1.579109286842105, 2.9206601189473687, -0.1...</td>\n    </tr>\n    <tr>\n      <th>1</th>\n      <td>1901362601</td>\n      <td>[[-1.7639175999999999, -3.2602275249999995, 2....</td>\n    </tr>\n    <tr>\n      <th>2</th>\n      <td>18110336</td>\n      <td>[[-4.3450105425, 0.24810093499999986, 4.423870...</td>\n    </tr>\n    <tr>\n      <th>3</th>\n      <td>190901191133</td>\n      <td>[[-5.1014285, 2.597416484444445, 5.91408673333...</td>\n    </tr>\n    <tr>\n      <th>4</th>\n      <td>19041230</td>\n      <td>[[-3.6661185405555554, 0.782676534861111, 2.68...</td>\n    </tr>\n  </tbody>\n</table>\n</div>"
     },
     "metadata": {},
     "execution_count": 133
    }
   ],
   "source": [
    "json_file.head()"
   ]
  },
  {
   "cell_type": "code",
   "execution_count": 134,
   "metadata": {},
   "outputs": [
    {
     "output_type": "execute_result",
     "data": {
      "text/plain": "            id  score\n0    201922301   4.14\n1  20191721032   3.36\n2    201906005   3.47\n3    201906004   3.54\n4    201823164   3.80",
      "text/html": "<div>\n<style scoped>\n    .dataframe tbody tr th:only-of-type {\n        vertical-align: middle;\n    }\n\n    .dataframe tbody tr th {\n        vertical-align: top;\n    }\n\n    .dataframe thead th {\n        text-align: right;\n    }\n</style>\n<table border=\"1\" class=\"dataframe\">\n  <thead>\n    <tr style=\"text-align: right;\">\n      <th></th>\n      <th>id</th>\n      <th>score</th>\n    </tr>\n  </thead>\n  <tbody>\n    <tr>\n      <th>0</th>\n      <td>201922301</td>\n      <td>4.14</td>\n    </tr>\n    <tr>\n      <th>1</th>\n      <td>20191721032</td>\n      <td>3.36</td>\n    </tr>\n    <tr>\n      <th>2</th>\n      <td>201906005</td>\n      <td>3.47</td>\n    </tr>\n    <tr>\n      <th>3</th>\n      <td>201906004</td>\n      <td>3.54</td>\n    </tr>\n    <tr>\n      <th>4</th>\n      <td>201823164</td>\n      <td>3.80</td>\n    </tr>\n  </tbody>\n</table>\n</div>"
     },
     "metadata": {},
     "execution_count": 134
    }
   ],
   "source": [
    "data.head()"
   ]
  },
  {
   "cell_type": "code",
   "execution_count": 135,
   "metadata": {},
   "outputs": [],
   "source": [
    "data = pd.merge(data, json_file)"
   ]
  },
  {
   "cell_type": "code",
   "execution_count": 136,
   "metadata": {},
   "outputs": [],
   "source": [
    "data = data.dropna()"
   ]
  },
  {
   "cell_type": "code",
   "execution_count": 137,
   "metadata": {},
   "outputs": [
    {
     "output_type": "execute_result",
     "data": {
      "text/plain": "            id  score                                             vector\n0    201922301   4.14  [[-4.648576633333334, -0.1527824666666667, 5.5...\n1  20191721032   3.36  [[-2.462165133333333, -1.2517511333333333, 6.6...\n2    201906004   3.54  [[-3.7282987317142857, 1.0043741571428575, 5.0...\n3    201822048   3.98  [[-2.4070685, 1.4974684000000003, 0.9653421999...\n4    201822042   3.51  [[-5.945544979999999, 2.07371892, 5.2692115799...",
      "text/html": "<div>\n<style scoped>\n    .dataframe tbody tr th:only-of-type {\n        vertical-align: middle;\n    }\n\n    .dataframe tbody tr th {\n        vertical-align: top;\n    }\n\n    .dataframe thead th {\n        text-align: right;\n    }\n</style>\n<table border=\"1\" class=\"dataframe\">\n  <thead>\n    <tr style=\"text-align: right;\">\n      <th></th>\n      <th>id</th>\n      <th>score</th>\n      <th>vector</th>\n    </tr>\n  </thead>\n  <tbody>\n    <tr>\n      <th>0</th>\n      <td>201922301</td>\n      <td>4.14</td>\n      <td>[[-4.648576633333334, -0.1527824666666667, 5.5...</td>\n    </tr>\n    <tr>\n      <th>1</th>\n      <td>20191721032</td>\n      <td>3.36</td>\n      <td>[[-2.462165133333333, -1.2517511333333333, 6.6...</td>\n    </tr>\n    <tr>\n      <th>2</th>\n      <td>201906004</td>\n      <td>3.54</td>\n      <td>[[-3.7282987317142857, 1.0043741571428575, 5.0...</td>\n    </tr>\n    <tr>\n      <th>3</th>\n      <td>201822048</td>\n      <td>3.98</td>\n      <td>[[-2.4070685, 1.4974684000000003, 0.9653421999...</td>\n    </tr>\n    <tr>\n      <th>4</th>\n      <td>201822042</td>\n      <td>3.51</td>\n      <td>[[-5.945544979999999, 2.07371892, 5.2692115799...</td>\n    </tr>\n  </tbody>\n</table>\n</div>"
     },
     "metadata": {},
     "execution_count": 137
    }
   ],
   "source": [
    "data.head()"
   ]
  },
  {
   "cell_type": "code",
   "execution_count": 138,
   "metadata": {},
   "outputs": [
    {
     "output_type": "execute_result",
     "data": {
      "text/plain": "(3423, 3)"
     },
     "metadata": {},
     "execution_count": 138
    }
   ],
   "source": [
    "data.shape"
   ]
  },
  {
   "cell_type": "code",
   "execution_count": 139,
   "metadata": {},
   "outputs": [],
   "source": [
    "def truncate(content):\n",
    "    return content[0]"
   ]
  },
  {
   "cell_type": "code",
   "execution_count": 151,
   "metadata": {},
   "outputs": [],
   "source": [
    "data['vector_100'] = data.vector.apply(truncate)"
   ]
  },
  {
   "cell_type": "code",
   "execution_count": 152,
   "metadata": {},
   "outputs": [
    {
     "output_type": "execute_result",
     "data": {
      "text/plain": "            id  score                                             vector  \\\n0    201922301   4.14  [[-4.648576633333334, -0.1527824666666667, 5.5...   \n1  20191721032   3.36  [[-2.462165133333333, -1.2517511333333333, 6.6...   \n2    201906004   3.54  [[-3.7282987317142857, 1.0043741571428575, 5.0...   \n3    201822048   3.98  [[-2.4070685, 1.4974684000000003, 0.9653421999...   \n4    201822042   3.51  [[-5.945544979999999, 2.07371892, 5.2692115799...   \n\n                                          vector_100  \n0  [-4.648576633333334, -0.1527824666666667, 5.57...  \n1  [-2.462165133333333, -1.2517511333333333, 6.63...  \n2  [-3.7282987317142857, 1.0043741571428575, 5.03...  \n3  [-2.4070685, 1.4974684000000003, 0.96534219999...  \n4  [-5.945544979999999, 2.07371892, 5.26921157999...  ",
      "text/html": "<div>\n<style scoped>\n    .dataframe tbody tr th:only-of-type {\n        vertical-align: middle;\n    }\n\n    .dataframe tbody tr th {\n        vertical-align: top;\n    }\n\n    .dataframe thead th {\n        text-align: right;\n    }\n</style>\n<table border=\"1\" class=\"dataframe\">\n  <thead>\n    <tr style=\"text-align: right;\">\n      <th></th>\n      <th>id</th>\n      <th>score</th>\n      <th>vector</th>\n      <th>vector_100</th>\n    </tr>\n  </thead>\n  <tbody>\n    <tr>\n      <th>0</th>\n      <td>201922301</td>\n      <td>4.14</td>\n      <td>[[-4.648576633333334, -0.1527824666666667, 5.5...</td>\n      <td>[-4.648576633333334, -0.1527824666666667, 5.57...</td>\n    </tr>\n    <tr>\n      <th>1</th>\n      <td>20191721032</td>\n      <td>3.36</td>\n      <td>[[-2.462165133333333, -1.2517511333333333, 6.6...</td>\n      <td>[-2.462165133333333, -1.2517511333333333, 6.63...</td>\n    </tr>\n    <tr>\n      <th>2</th>\n      <td>201906004</td>\n      <td>3.54</td>\n      <td>[[-3.7282987317142857, 1.0043741571428575, 5.0...</td>\n      <td>[-3.7282987317142857, 1.0043741571428575, 5.03...</td>\n    </tr>\n    <tr>\n      <th>3</th>\n      <td>201822048</td>\n      <td>3.98</td>\n      <td>[[-2.4070685, 1.4974684000000003, 0.9653421999...</td>\n      <td>[-2.4070685, 1.4974684000000003, 0.96534219999...</td>\n    </tr>\n    <tr>\n      <th>4</th>\n      <td>201822042</td>\n      <td>3.51</td>\n      <td>[[-5.945544979999999, 2.07371892, 5.2692115799...</td>\n      <td>[-5.945544979999999, 2.07371892, 5.26921157999...</td>\n    </tr>\n  </tbody>\n</table>\n</div>"
     },
     "metadata": {},
     "execution_count": 152
    }
   ],
   "source": [
    "data.head()"
   ]
  },
  {
   "cell_type": "code",
   "execution_count": 153,
   "metadata": {},
   "outputs": [],
   "source": [
    "data.score = data.score.astype(np.float32)"
   ]
  },
  {
   "cell_type": "code",
   "execution_count": 154,
   "metadata": {},
   "outputs": [],
   "source": [
    "target = data.score.to_list()"
   ]
  },
  {
   "cell_type": "code",
   "execution_count": 155,
   "metadata": {},
   "outputs": [],
   "source": [
    "target =  np.array(target)\n",
    "target = target.astype(np.float32)"
   ]
  },
  {
   "cell_type": "code",
   "execution_count": 156,
   "metadata": {},
   "outputs": [],
   "source": [
    "vector_100 = data.vector_100.to_list()"
   ]
  },
  {
   "cell_type": "code",
   "execution_count": 157,
   "metadata": {},
   "outputs": [],
   "source": [
    "vector_100 = np.array(vector_100)"
   ]
  },
  {
   "cell_type": "code",
   "execution_count": null,
   "metadata": {},
   "outputs": [],
   "source": []
  },
  {
   "cell_type": "code",
   "execution_count": null,
   "metadata": {},
   "outputs": [],
   "source": []
  },
  {
   "cell_type": "code",
   "execution_count": null,
   "metadata": {},
   "outputs": [],
   "source": []
  },
  {
   "cell_type": "code",
   "execution_count": 158,
   "metadata": {},
   "outputs": [],
   "source": [
    "from tensorflow.python.keras.models import Sequential\n",
    "import tensorflow as tf\n",
    "from tensorflow import keras\n",
    "from tensorflow import initializers as init"
   ]
  },
  {
   "cell_type": "code",
   "execution_count": 159,
   "metadata": {},
   "outputs": [],
   "source": [
    "model = Sequential()\n",
    "model.add(keras.layers.Dense(4, input_shape=(100,), activation='sigmoid'))\n",
    "model.add(keras.layers.Dense(1))"
   ]
  },
  {
   "cell_type": "code",
   "execution_count": 160,
   "metadata": {},
   "outputs": [],
   "source": [
    "model.compile(loss = 'mse',\n",
    "             optimizer='adam')  "
   ]
  },
  {
   "cell_type": "code",
   "execution_count": 161,
   "metadata": {
    "tags": []
   },
   "outputs": [
    {
     "output_type": "stream",
     "name": "stdout",
     "text": "Epoch 1/30\n97/97 [==============================] - 0s 2ms/step - loss: 13.9708 - val_loss: 10.1830\nEpoch 2/30\n97/97 [==============================] - 0s 3ms/step - loss: 9.8577 - val_loss: 7.4920\nEpoch 3/30\n97/97 [==============================] - 0s 2ms/step - loss: 7.4459 - val_loss: 5.3466\nEpoch 4/30\n97/97 [==============================] - 0s 3ms/step - loss: 5.1433 - val_loss: 3.4398\nEpoch 5/30\n97/97 [==============================] - 0s 2ms/step - loss: 3.4756 - val_loss: 2.2319\nEpoch 6/30\n97/97 [==============================] - 0s 3ms/step - loss: 2.3762 - val_loss: 1.4341\nEpoch 7/30\n97/97 [==============================] - 0s 2ms/step - loss: 1.6233 - val_loss: 0.9072\nEpoch 8/30\n97/97 [==============================] - 0s 2ms/step - loss: 1.1057 - val_loss: 0.5640\nEpoch 9/30\n97/97 [==============================] - 0s 3ms/step - loss: 0.7557 - val_loss: 0.3520\nEpoch 10/30\n97/97 [==============================] - 0s 3ms/step - loss: 0.5250 - val_loss: 0.2275\nEpoch 11/30\n97/97 [==============================] - 0s 3ms/step - loss: 0.3780 - val_loss: 0.1622\nEpoch 12/30\n97/97 [==============================] - 0s 2ms/step - loss: 0.2870 - val_loss: 0.1325\nEpoch 13/30\n97/97 [==============================] - 1s 7ms/step - loss: 0.2330 - val_loss: 0.1242\nEpoch 14/30\n97/97 [==============================] - 0s 2ms/step - loss: 0.2024 - val_loss: 0.1264\nEpoch 15/30\n97/97 [==============================] - 0s 2ms/step - loss: 0.1854 - val_loss: 0.1330\nEpoch 16/30\n97/97 [==============================] - 0s 3ms/step - loss: 0.1767 - val_loss: 0.1407\nEpoch 17/30\n97/97 [==============================] - 0s 2ms/step - loss: 0.1723 - val_loss: 0.1476\nEpoch 18/30\n97/97 [==============================] - 0s 2ms/step - loss: 0.1701 - val_loss: 0.1531\nEpoch 19/30\n97/97 [==============================] - 0s 3ms/step - loss: 0.1690 - val_loss: 0.1574\nEpoch 20/30\n97/97 [==============================] - 0s 3ms/step - loss: 0.1685 - val_loss: 0.1600\nEpoch 21/30\n97/97 [==============================] - 0s 3ms/step - loss: 0.1681 - val_loss: 0.1621\nEpoch 22/30\n97/97 [==============================] - 0s 2ms/step - loss: 0.1679 - val_loss: 0.1634\nEpoch 23/30\n97/97 [==============================] - 0s 2ms/step - loss: 0.1678 - val_loss: 0.1636\nEpoch 24/30\n97/97 [==============================] - 0s 2ms/step - loss: 0.1675 - val_loss: 0.1648\nEpoch 25/30\n97/97 [==============================] - 0s 2ms/step - loss: 0.1674 - val_loss: 0.1652\nEpoch 26/30\n97/97 [==============================] - 0s 2ms/step - loss: 0.1672 - val_loss: 0.1647\nEpoch 27/30\n97/97 [==============================] - 0s 3ms/step - loss: 0.1671 - val_loss: 0.1650\nEpoch 28/30\n97/97 [==============================] - 0s 3ms/step - loss: 0.1669 - val_loss: 0.1645\nEpoch 29/30\n97/97 [==============================] - 0s 3ms/step - loss: 0.1667 - val_loss: 0.1649\nEpoch 30/30\n97/97 [==============================] - 0s 2ms/step - loss: 0.1666 - val_loss: 0.1646\n"
    },
    {
     "output_type": "execute_result",
     "data": {
      "text/plain": "<tensorflow.python.keras.callbacks.History at 0x13aeaaf50>"
     },
     "metadata": {},
     "execution_count": 161
    }
   ],
   "source": [
    "model.fit(vector_100/10, target, epochs=30, validation_split=0.1)"
   ]
  },
  {
   "cell_type": "code",
   "execution_count": 169,
   "metadata": {
    "tags": []
   },
   "outputs": [],
   "source": [
    "num_sen = []\n",
    "for i in data.vector:\n",
    "    num_sen.append(i.shape[0])"
   ]
  },
  {
   "cell_type": "code",
   "execution_count": 174,
   "metadata": {},
   "outputs": [],
   "source": [
    "num_sen = np.array(num_sen)"
   ]
  },
  {
   "cell_type": "code",
   "execution_count": 176,
   "metadata": {},
   "outputs": [
    {
     "output_type": "execute_result",
     "data": {
      "text/plain": "70.13701431492842"
     },
     "metadata": {},
     "execution_count": 176
    }
   ],
   "source": [
    "np.mean(num_sen)"
   ]
  },
  {
   "cell_type": "code",
   "execution_count": 262,
   "metadata": {},
   "outputs": [
    {
     "output_type": "execute_result",
     "data": {
      "text/plain": "168"
     },
     "metadata": {},
     "execution_count": 262
    }
   ],
   "source": [
    "max_sen = np.mean(num_sen) + 2 * np.std(num_sen)\n",
    "max_sen = int(max_sen)\n",
    "max_sen# = 50"
   ]
  },
  {
   "cell_type": "code",
   "execution_count": 263,
   "metadata": {},
   "outputs": [
    {
     "output_type": "execute_result",
     "data": {
      "text/plain": "0.9932807478819748"
     },
     "metadata": {},
     "execution_count": 263
    }
   ],
   "source": [
    "# 句子的个数可以覆盖的范围\n",
    "np.sum(num_sen < max_sen) / len(num_sen)"
   ]
  },
  {
   "cell_type": "code",
   "execution_count": 264,
   "metadata": {},
   "outputs": [],
   "source": [
    "def uniform(content):\n",
    "    if (content.shape[0]>=max_sen):\n",
    "        return content[0:max_sen]\n",
    "    else:\n",
    "        return np.pad(content, [[0, max_sen-content.shape[0]], [0, 0]])"
   ]
  },
  {
   "cell_type": "code",
   "execution_count": 265,
   "metadata": {},
   "outputs": [],
   "source": [
    "data.vector = data.vector.apply(uniform)"
   ]
  },
  {
   "cell_type": "code",
   "execution_count": 266,
   "metadata": {},
   "outputs": [],
   "source": [
    "vector = np.array(data.vector.to_list())"
   ]
  },
  {
   "cell_type": "code",
   "execution_count": 267,
   "metadata": {},
   "outputs": [
    {
     "output_type": "execute_result",
     "data": {
      "text/plain": "(3423, 168, 100)"
     },
     "metadata": {},
     "execution_count": 267
    }
   ],
   "source": [
    "vector.shape"
   ]
  },
  {
   "cell_type": "code",
   "execution_count": 278,
   "metadata": {},
   "outputs": [],
   "source": [
    "model2 = Sequential()\n",
    "model2.add(keras.layers.Dense(20, input_shape=(168,100), activation='relu'))\n",
    "model2.add(keras.layers.Dense(10))\n",
    "model2.add(keras.layers.Dense(5, activation='relu'))\n",
    "model2.add(keras.layers.Dense(1, activation='linear'))"
   ]
  },
  {
   "cell_type": "code",
   "execution_count": 279,
   "metadata": {},
   "outputs": [],
   "source": [
    "model2.compile(loss='mse',\n",
    "                optimizer='rmsprop')"
   ]
  },
  {
   "cell_type": "code",
   "execution_count": 281,
   "metadata": {
    "tags": []
   },
   "outputs": [
    {
     "output_type": "stream",
     "name": "stdout",
     "text": "Epoch 1/50\n25/25 [==============================] - 1s 23ms/step - loss: 0.1624 - val_loss: 0.2007\nEpoch 2/50\n25/25 [==============================] - 1s 23ms/step - loss: 0.1624 - val_loss: 0.2050\nEpoch 3/50\n25/25 [==============================] - 1s 24ms/step - loss: 0.1629 - val_loss: 0.1732\nEpoch 4/50\n25/25 [==============================] - 1s 22ms/step - loss: 0.1624 - val_loss: 0.2305\nEpoch 5/50\n25/25 [==============================] - 1s 25ms/step - loss: 0.1629 - val_loss: 0.2149\nEpoch 6/50\n25/25 [==============================] - 1s 23ms/step - loss: 0.1629 - val_loss: 0.1403\nEpoch 7/50\n25/25 [==============================] - 1s 25ms/step - loss: 0.1628 - val_loss: 0.1584\nEpoch 8/50\n25/25 [==============================] - 1s 24ms/step - loss: 0.1620 - val_loss: 0.1325\nEpoch 9/50\n25/25 [==============================] - 1s 23ms/step - loss: 0.1630 - val_loss: 0.1354\nEpoch 10/50\n25/25 [==============================] - 1s 23ms/step - loss: 0.1635 - val_loss: 0.1523\nEpoch 11/50\n25/25 [==============================] - 1s 24ms/step - loss: 0.1630 - val_loss: 0.1405\nEpoch 12/50\n25/25 [==============================] - 1s 29ms/step - loss: 0.1628 - val_loss: 0.1433\nEpoch 13/50\n25/25 [==============================] - 1s 29ms/step - loss: 0.1628 - val_loss: 0.1909\nEpoch 14/50\n25/25 [==============================] - 1s 29ms/step - loss: 0.1626 - val_loss: 0.1404\nEpoch 15/50\n25/25 [==============================] - 1s 25ms/step - loss: 0.1630 - val_loss: 0.2437\nEpoch 16/50\n25/25 [==============================] - 1s 27ms/step - loss: 0.1631 - val_loss: 0.1673\nEpoch 17/50\n25/25 [==============================] - 1s 26ms/step - loss: 0.1628 - val_loss: 0.1894\nEpoch 18/50\n25/25 [==============================] - 1s 23ms/step - loss: 0.1629 - val_loss: 0.1831\nEpoch 19/50\n25/25 [==============================] - 1s 27ms/step - loss: 0.1624 - val_loss: 0.2327\nEpoch 20/50\n25/25 [==============================] - 1s 30ms/step - loss: 0.1632 - val_loss: 0.1922\nEpoch 21/50\n20/25 [=======================>......] - ETA: 0s - loss: 0.1684"
    },
    {
     "output_type": "error",
     "ename": "KeyboardInterrupt",
     "evalue": "",
     "traceback": [
      "\u001b[0;31m---------------------------------------------------------------------------\u001b[0m",
      "\u001b[0;31mKeyboardInterrupt\u001b[0m                         Traceback (most recent call last)",
      "\u001b[0;32m<ipython-input-281-6f333521a748>\u001b[0m in \u001b[0;36m<module>\u001b[0;34m\u001b[0m\n\u001b[0;32m----> 1\u001b[0;31m \u001b[0mmodel2\u001b[0m\u001b[0;34m.\u001b[0m\u001b[0mfit\u001b[0m\u001b[0;34m(\u001b[0m\u001b[0mvector\u001b[0m\u001b[0;34m,\u001b[0m \u001b[0mtarget\u001b[0m\u001b[0;34m,\u001b[0m \u001b[0mepochs\u001b[0m\u001b[0;34m=\u001b[0m\u001b[0;36m50\u001b[0m\u001b[0;34m,\u001b[0m \u001b[0mvalidation_split\u001b[0m\u001b[0;34m=\u001b[0m\u001b[0;36m0.1\u001b[0m\u001b[0;34m,\u001b[0m \u001b[0mbatch_size\u001b[0m\u001b[0;34m=\u001b[0m\u001b[0;36m128\u001b[0m\u001b[0;34m)\u001b[0m\u001b[0;34m\u001b[0m\u001b[0;34m\u001b[0m\u001b[0m\n\u001b[0m",
      "\u001b[0;32m/usr/local/lib/python3.7/site-packages/tensorflow/python/keras/engine/training.py\u001b[0m in \u001b[0;36m_method_wrapper\u001b[0;34m(self, *args, **kwargs)\u001b[0m\n\u001b[1;32m     64\u001b[0m   \u001b[0;32mdef\u001b[0m \u001b[0m_method_wrapper\u001b[0m\u001b[0;34m(\u001b[0m\u001b[0mself\u001b[0m\u001b[0;34m,\u001b[0m \u001b[0;34m*\u001b[0m\u001b[0margs\u001b[0m\u001b[0;34m,\u001b[0m \u001b[0;34m**\u001b[0m\u001b[0mkwargs\u001b[0m\u001b[0;34m)\u001b[0m\u001b[0;34m:\u001b[0m\u001b[0;34m\u001b[0m\u001b[0;34m\u001b[0m\u001b[0m\n\u001b[1;32m     65\u001b[0m     \u001b[0;32mif\u001b[0m \u001b[0;32mnot\u001b[0m \u001b[0mself\u001b[0m\u001b[0;34m.\u001b[0m\u001b[0m_in_multi_worker_mode\u001b[0m\u001b[0;34m(\u001b[0m\u001b[0;34m)\u001b[0m\u001b[0;34m:\u001b[0m  \u001b[0;31m# pylint: disable=protected-access\u001b[0m\u001b[0;34m\u001b[0m\u001b[0;34m\u001b[0m\u001b[0m\n\u001b[0;32m---> 66\u001b[0;31m       \u001b[0;32mreturn\u001b[0m \u001b[0mmethod\u001b[0m\u001b[0;34m(\u001b[0m\u001b[0mself\u001b[0m\u001b[0;34m,\u001b[0m \u001b[0;34m*\u001b[0m\u001b[0margs\u001b[0m\u001b[0;34m,\u001b[0m \u001b[0;34m**\u001b[0m\u001b[0mkwargs\u001b[0m\u001b[0;34m)\u001b[0m\u001b[0;34m\u001b[0m\u001b[0;34m\u001b[0m\u001b[0m\n\u001b[0m\u001b[1;32m     67\u001b[0m \u001b[0;34m\u001b[0m\u001b[0m\n\u001b[1;32m     68\u001b[0m     \u001b[0;31m# Running inside `run_distribute_coordinator` already.\u001b[0m\u001b[0;34m\u001b[0m\u001b[0;34m\u001b[0m\u001b[0;34m\u001b[0m\u001b[0m\n",
      "\u001b[0;32m/usr/local/lib/python3.7/site-packages/tensorflow/python/keras/engine/training.py\u001b[0m in \u001b[0;36mfit\u001b[0;34m(self, x, y, batch_size, epochs, verbose, callbacks, validation_split, validation_data, shuffle, class_weight, sample_weight, initial_epoch, steps_per_epoch, validation_steps, validation_batch_size, validation_freq, max_queue_size, workers, use_multiprocessing)\u001b[0m\n\u001b[1;32m    846\u001b[0m                 batch_size=batch_size):\n\u001b[1;32m    847\u001b[0m               \u001b[0mcallbacks\u001b[0m\u001b[0;34m.\u001b[0m\u001b[0mon_train_batch_begin\u001b[0m\u001b[0;34m(\u001b[0m\u001b[0mstep\u001b[0m\u001b[0;34m)\u001b[0m\u001b[0;34m\u001b[0m\u001b[0;34m\u001b[0m\u001b[0m\n\u001b[0;32m--> 848\u001b[0;31m               \u001b[0mtmp_logs\u001b[0m \u001b[0;34m=\u001b[0m \u001b[0mtrain_function\u001b[0m\u001b[0;34m(\u001b[0m\u001b[0miterator\u001b[0m\u001b[0;34m)\u001b[0m\u001b[0;34m\u001b[0m\u001b[0;34m\u001b[0m\u001b[0m\n\u001b[0m\u001b[1;32m    849\u001b[0m               \u001b[0;31m# Catch OutOfRangeError for Datasets of unknown size.\u001b[0m\u001b[0;34m\u001b[0m\u001b[0;34m\u001b[0m\u001b[0;34m\u001b[0m\u001b[0m\n\u001b[1;32m    850\u001b[0m               \u001b[0;31m# This blocks until the batch has finished executing.\u001b[0m\u001b[0;34m\u001b[0m\u001b[0;34m\u001b[0m\u001b[0;34m\u001b[0m\u001b[0m\n",
      "\u001b[0;32m/usr/local/lib/python3.7/site-packages/tensorflow/python/eager/def_function.py\u001b[0m in \u001b[0;36m__call__\u001b[0;34m(self, *args, **kwds)\u001b[0m\n\u001b[1;32m    578\u001b[0m         \u001b[0mxla_context\u001b[0m\u001b[0;34m.\u001b[0m\u001b[0mExit\u001b[0m\u001b[0;34m(\u001b[0m\u001b[0;34m)\u001b[0m\u001b[0;34m\u001b[0m\u001b[0;34m\u001b[0m\u001b[0m\n\u001b[1;32m    579\u001b[0m     \u001b[0;32melse\u001b[0m\u001b[0;34m:\u001b[0m\u001b[0;34m\u001b[0m\u001b[0;34m\u001b[0m\u001b[0m\n\u001b[0;32m--> 580\u001b[0;31m       \u001b[0mresult\u001b[0m \u001b[0;34m=\u001b[0m \u001b[0mself\u001b[0m\u001b[0;34m.\u001b[0m\u001b[0m_call\u001b[0m\u001b[0;34m(\u001b[0m\u001b[0;34m*\u001b[0m\u001b[0margs\u001b[0m\u001b[0;34m,\u001b[0m \u001b[0;34m**\u001b[0m\u001b[0mkwds\u001b[0m\u001b[0;34m)\u001b[0m\u001b[0;34m\u001b[0m\u001b[0;34m\u001b[0m\u001b[0m\n\u001b[0m\u001b[1;32m    581\u001b[0m \u001b[0;34m\u001b[0m\u001b[0m\n\u001b[1;32m    582\u001b[0m     \u001b[0;32mif\u001b[0m \u001b[0mtracing_count\u001b[0m \u001b[0;34m==\u001b[0m \u001b[0mself\u001b[0m\u001b[0;34m.\u001b[0m\u001b[0m_get_tracing_count\u001b[0m\u001b[0;34m(\u001b[0m\u001b[0;34m)\u001b[0m\u001b[0;34m:\u001b[0m\u001b[0;34m\u001b[0m\u001b[0;34m\u001b[0m\u001b[0m\n",
      "\u001b[0;32m/usr/local/lib/python3.7/site-packages/tensorflow/python/eager/def_function.py\u001b[0m in \u001b[0;36m_call\u001b[0;34m(self, *args, **kwds)\u001b[0m\n\u001b[1;32m    609\u001b[0m       \u001b[0;31m# In this case we have created variables on the first call, so we run the\u001b[0m\u001b[0;34m\u001b[0m\u001b[0;34m\u001b[0m\u001b[0;34m\u001b[0m\u001b[0m\n\u001b[1;32m    610\u001b[0m       \u001b[0;31m# defunned version which is guaranteed to never create variables.\u001b[0m\u001b[0;34m\u001b[0m\u001b[0;34m\u001b[0m\u001b[0;34m\u001b[0m\u001b[0m\n\u001b[0;32m--> 611\u001b[0;31m       \u001b[0;32mreturn\u001b[0m \u001b[0mself\u001b[0m\u001b[0;34m.\u001b[0m\u001b[0m_stateless_fn\u001b[0m\u001b[0;34m(\u001b[0m\u001b[0;34m*\u001b[0m\u001b[0margs\u001b[0m\u001b[0;34m,\u001b[0m \u001b[0;34m**\u001b[0m\u001b[0mkwds\u001b[0m\u001b[0;34m)\u001b[0m  \u001b[0;31m# pylint: disable=not-callable\u001b[0m\u001b[0;34m\u001b[0m\u001b[0;34m\u001b[0m\u001b[0m\n\u001b[0m\u001b[1;32m    612\u001b[0m     \u001b[0;32melif\u001b[0m \u001b[0mself\u001b[0m\u001b[0;34m.\u001b[0m\u001b[0m_stateful_fn\u001b[0m \u001b[0;32mis\u001b[0m \u001b[0;32mnot\u001b[0m \u001b[0;32mNone\u001b[0m\u001b[0;34m:\u001b[0m\u001b[0;34m\u001b[0m\u001b[0;34m\u001b[0m\u001b[0m\n\u001b[1;32m    613\u001b[0m       \u001b[0;31m# Release the lock early so that multiple threads can perform the call\u001b[0m\u001b[0;34m\u001b[0m\u001b[0;34m\u001b[0m\u001b[0;34m\u001b[0m\u001b[0m\n",
      "\u001b[0;32m/usr/local/lib/python3.7/site-packages/tensorflow/python/eager/function.py\u001b[0m in \u001b[0;36m__call__\u001b[0;34m(self, *args, **kwargs)\u001b[0m\n\u001b[1;32m   2418\u001b[0m     \u001b[0;32mwith\u001b[0m \u001b[0mself\u001b[0m\u001b[0;34m.\u001b[0m\u001b[0m_lock\u001b[0m\u001b[0;34m:\u001b[0m\u001b[0;34m\u001b[0m\u001b[0;34m\u001b[0m\u001b[0m\n\u001b[1;32m   2419\u001b[0m       \u001b[0mgraph_function\u001b[0m\u001b[0;34m,\u001b[0m \u001b[0margs\u001b[0m\u001b[0;34m,\u001b[0m \u001b[0mkwargs\u001b[0m \u001b[0;34m=\u001b[0m \u001b[0mself\u001b[0m\u001b[0;34m.\u001b[0m\u001b[0m_maybe_define_function\u001b[0m\u001b[0;34m(\u001b[0m\u001b[0margs\u001b[0m\u001b[0;34m,\u001b[0m \u001b[0mkwargs\u001b[0m\u001b[0;34m)\u001b[0m\u001b[0;34m\u001b[0m\u001b[0;34m\u001b[0m\u001b[0m\n\u001b[0;32m-> 2420\u001b[0;31m     \u001b[0;32mreturn\u001b[0m \u001b[0mgraph_function\u001b[0m\u001b[0;34m.\u001b[0m\u001b[0m_filtered_call\u001b[0m\u001b[0;34m(\u001b[0m\u001b[0margs\u001b[0m\u001b[0;34m,\u001b[0m \u001b[0mkwargs\u001b[0m\u001b[0;34m)\u001b[0m  \u001b[0;31m# pylint: disable=protected-access\u001b[0m\u001b[0;34m\u001b[0m\u001b[0;34m\u001b[0m\u001b[0m\n\u001b[0m\u001b[1;32m   2421\u001b[0m \u001b[0;34m\u001b[0m\u001b[0m\n\u001b[1;32m   2422\u001b[0m   \u001b[0;34m@\u001b[0m\u001b[0mproperty\u001b[0m\u001b[0;34m\u001b[0m\u001b[0;34m\u001b[0m\u001b[0m\n",
      "\u001b[0;32m/usr/local/lib/python3.7/site-packages/tensorflow/python/eager/function.py\u001b[0m in \u001b[0;36m_filtered_call\u001b[0;34m(self, args, kwargs)\u001b[0m\n\u001b[1;32m   1663\u001b[0m          if isinstance(t, (ops.Tensor,\n\u001b[1;32m   1664\u001b[0m                            resource_variable_ops.BaseResourceVariable))),\n\u001b[0;32m-> 1665\u001b[0;31m         self.captured_inputs)\n\u001b[0m\u001b[1;32m   1666\u001b[0m \u001b[0;34m\u001b[0m\u001b[0m\n\u001b[1;32m   1667\u001b[0m   \u001b[0;32mdef\u001b[0m \u001b[0m_call_flat\u001b[0m\u001b[0;34m(\u001b[0m\u001b[0mself\u001b[0m\u001b[0;34m,\u001b[0m \u001b[0margs\u001b[0m\u001b[0;34m,\u001b[0m \u001b[0mcaptured_inputs\u001b[0m\u001b[0;34m,\u001b[0m \u001b[0mcancellation_manager\u001b[0m\u001b[0;34m=\u001b[0m\u001b[0;32mNone\u001b[0m\u001b[0;34m)\u001b[0m\u001b[0;34m:\u001b[0m\u001b[0;34m\u001b[0m\u001b[0;34m\u001b[0m\u001b[0m\n",
      "\u001b[0;32m/usr/local/lib/python3.7/site-packages/tensorflow/python/eager/function.py\u001b[0m in \u001b[0;36m_call_flat\u001b[0;34m(self, args, captured_inputs, cancellation_manager)\u001b[0m\n\u001b[1;32m   1744\u001b[0m       \u001b[0;31m# No tape is watching; skip to running the function.\u001b[0m\u001b[0;34m\u001b[0m\u001b[0;34m\u001b[0m\u001b[0;34m\u001b[0m\u001b[0m\n\u001b[1;32m   1745\u001b[0m       return self._build_call_outputs(self._inference_function.call(\n\u001b[0;32m-> 1746\u001b[0;31m           ctx, args, cancellation_manager=cancellation_manager))\n\u001b[0m\u001b[1;32m   1747\u001b[0m     forward_backward = self._select_forward_and_backward_functions(\n\u001b[1;32m   1748\u001b[0m         \u001b[0margs\u001b[0m\u001b[0;34m,\u001b[0m\u001b[0;34m\u001b[0m\u001b[0;34m\u001b[0m\u001b[0m\n",
      "\u001b[0;32m/usr/local/lib/python3.7/site-packages/tensorflow/python/eager/function.py\u001b[0m in \u001b[0;36mcall\u001b[0;34m(self, ctx, args, cancellation_manager)\u001b[0m\n\u001b[1;32m    596\u001b[0m               \u001b[0minputs\u001b[0m\u001b[0;34m=\u001b[0m\u001b[0margs\u001b[0m\u001b[0;34m,\u001b[0m\u001b[0;34m\u001b[0m\u001b[0;34m\u001b[0m\u001b[0m\n\u001b[1;32m    597\u001b[0m               \u001b[0mattrs\u001b[0m\u001b[0;34m=\u001b[0m\u001b[0mattrs\u001b[0m\u001b[0;34m,\u001b[0m\u001b[0;34m\u001b[0m\u001b[0;34m\u001b[0m\u001b[0m\n\u001b[0;32m--> 598\u001b[0;31m               ctx=ctx)\n\u001b[0m\u001b[1;32m    599\u001b[0m         \u001b[0;32melse\u001b[0m\u001b[0;34m:\u001b[0m\u001b[0;34m\u001b[0m\u001b[0;34m\u001b[0m\u001b[0m\n\u001b[1;32m    600\u001b[0m           outputs = execute.execute_with_cancellation(\n",
      "\u001b[0;32m/usr/local/lib/python3.7/site-packages/tensorflow/python/eager/execute.py\u001b[0m in \u001b[0;36mquick_execute\u001b[0;34m(op_name, num_outputs, inputs, attrs, ctx, name)\u001b[0m\n\u001b[1;32m     58\u001b[0m     \u001b[0mctx\u001b[0m\u001b[0;34m.\u001b[0m\u001b[0mensure_initialized\u001b[0m\u001b[0;34m(\u001b[0m\u001b[0;34m)\u001b[0m\u001b[0;34m\u001b[0m\u001b[0;34m\u001b[0m\u001b[0m\n\u001b[1;32m     59\u001b[0m     tensors = pywrap_tfe.TFE_Py_Execute(ctx._handle, device_name, op_name,\n\u001b[0;32m---> 60\u001b[0;31m                                         inputs, attrs, num_outputs)\n\u001b[0m\u001b[1;32m     61\u001b[0m   \u001b[0;32mexcept\u001b[0m \u001b[0mcore\u001b[0m\u001b[0;34m.\u001b[0m\u001b[0m_NotOkStatusException\u001b[0m \u001b[0;32mas\u001b[0m \u001b[0me\u001b[0m\u001b[0;34m:\u001b[0m\u001b[0;34m\u001b[0m\u001b[0;34m\u001b[0m\u001b[0m\n\u001b[1;32m     62\u001b[0m     \u001b[0;32mif\u001b[0m \u001b[0mname\u001b[0m \u001b[0;32mis\u001b[0m \u001b[0;32mnot\u001b[0m \u001b[0;32mNone\u001b[0m\u001b[0;34m:\u001b[0m\u001b[0;34m\u001b[0m\u001b[0;34m\u001b[0m\u001b[0m\n",
      "\u001b[0;31mKeyboardInterrupt\u001b[0m: "
     ]
    }
   ],
   "source": [
    "model2.fit(vector, target, epochs=50, validation_split=0.1, batch_size=128)"
   ]
  },
  {
   "cell_type": "code",
   "execution_count": null,
   "metadata": {},
   "outputs": [],
   "source": []
  }
 ],
 "metadata": {
  "kernelspec": {
   "display_name": "Python 3",
   "language": "python",
   "name": "python3"
  },
  "language_info": {
   "codemirror_mode": {
    "name": "ipython",
    "version": 3
   },
   "file_extension": ".py",
   "mimetype": "text/x-python",
   "name": "python",
   "nbconvert_exporter": "python",
   "pygments_lexer": "ipython3",
   "version": "3.7.7-final"
  }
 },
 "nbformat": 4,
 "nbformat_minor": 2
}